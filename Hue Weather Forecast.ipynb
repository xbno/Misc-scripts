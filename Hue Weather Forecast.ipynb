{
 "cells": [
  {
   "cell_type": "code",
   "execution_count": 18,
   "metadata": {
    "collapsed": true
   },
   "outputs": [],
   "source": [
    "import numpy as np\n",
    "import time as t\n",
    "import random as r\n",
    "from phue import Bridge\n",
    "import pyowm\n",
    "#import schedule as s\n",
    "\n",
    "b = Bridge('192.168.1.2')\n",
    "b.connect()\n",
    "\n",
    "owm = pyowm.OWM('632bd18004bd1aafd4a46ed1bca8437f')\n",
    "observation = owm.weather_at_place(\"Boston,MA\")\n",
    "#observation = owm.weather_at_place(\"fairbanks,ak\")\n",
    "#observation = owm.weather_at_place(\"san fransisco,ca\")\n",
    "\n",
    "def gettemp():\n",
    "    obs = observation.get_weather()\n",
    "    currenttemp = obs.get_temperature('fahrenheit')\n",
    "    return currenttemp['temp']\n",
    "\n",
    "#blink hue\n",
    "def blink(num):\n",
    "    for i in range(num):\n",
    "        b.set_light('Circle','bri',0)\n",
    "        t.sleep(.1)\n",
    "        b.set_light('Circle','bri',100)\n",
    "        t.sleep(.2)"
   ]
  },
  {
   "cell_type": "code",
   "execution_count": 11,
   "metadata": {
    "collapsed": true
   },
   "outputs": [],
   "source": [
    "def rain():\n",
    "    for i in range(10):\n",
    "        b.set_light('Circle','hue',r.randint(40000,50000))\n",
    "        t.sleep(.5)\n",
    "        "
   ]
  },
  {
   "cell_type": "code",
   "execution_count": 12,
   "metadata": {
    "collapsed": false
   },
   "outputs": [],
   "source": [
    "rain()"
   ]
  },
  {
   "cell_type": "code",
   "execution_count": 9,
   "metadata": {
    "collapsed": false
   },
   "outputs": [
    {
     "data": {
      "text/plain": [
       "46639"
      ]
     },
     "execution_count": 9,
     "metadata": {},
     "output_type": "execute_result"
    }
   ],
   "source": [
    "r.randint(40000,50000)"
   ]
  },
  {
   "cell_type": "code",
   "execution_count": 16,
   "metadata": {
    "collapsed": true
   },
   "outputs": [],
   "source": [
    "def flicker():\n",
    "    b.set_light(4,'sat',0)\n",
    "    t.sleep(.1)\n",
    "    b.set_light(4,'sat',255)\n",
    "    \n",
    "flicker()"
   ]
  },
  {
   "cell_type": "code",
   "execution_count": 20,
   "metadata": {
    "collapsed": false
   },
   "outputs": [
    {
     "data": {
      "text/plain": [
       "<pyowm.webapi25.observation.Observation - reception time=2017-02-03 02:42:49+00>"
      ]
     },
     "execution_count": 20,
     "metadata": {},
     "output_type": "execute_result"
    }
   ],
   "source": [
    "observation"
   ]
  },
  {
   "cell_type": "code",
   "execution_count": 24,
   "metadata": {
    "collapsed": false
   },
   "outputs": [
    {
     "data": {
      "text/plain": [
       "33.1"
      ]
     },
     "execution_count": 24,
     "metadata": {},
     "output_type": "execute_result"
    }
   ],
   "source": [
    "#get url\n",
    "\n",
    "import urllib\n",
    "import simplejson as json\n",
    "\n",
    "def fetchjsonurl():\n",
    "    url = 'http://api.wunderground.com/api/fe59ac25f4cd0754/conditions/q/MA/Boston.json'\n",
    "    url = 'http://api.wunderground.com/api/fe59ac25f4cd0754/forecast/q/MA/Boston.json'\n",
    "    f = urllib.request.urlopen(url)\n",
    "    json_string = f.read()\n",
    "    f.close()\n",
    "    return json_string\n",
    "\n",
    "string = fetchjsonurl()\n",
    "parsed_json = json.loads(string)\n",
    "\n",
    "parsed_json['current_observation']['temp_f']"
   ]
  },
  {
   "cell_type": "code",
   "execution_count": null,
   "metadata": {
    "collapsed": true
   },
   "outputs": [],
   "source": []
  }
 ],
 "metadata": {
  "kernelspec": {
   "display_name": "Python [default]",
   "language": "python",
   "name": "python3"
  },
  "language_info": {
   "codemirror_mode": {
    "name": "ipython",
    "version": 3
   },
   "file_extension": ".py",
   "mimetype": "text/x-python",
   "name": "python",
   "nbconvert_exporter": "python",
   "pygments_lexer": "ipython3",
   "version": "3.5.2"
  }
 },
 "nbformat": 4,
 "nbformat_minor": 1
}
