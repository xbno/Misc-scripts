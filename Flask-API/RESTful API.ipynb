{
 "cells": [
  {
   "cell_type": "markdown",
   "metadata": {},
   "source": [
    "#### Geoff Counihan 8/18/2017\n",
    "## Intro\n",
    "\n",
    "This is the scratchpad/notebook for a coding assignment I had during an interview process. It is my first time making a RestFUL API. If I had additional time there are a few extra additions I would add/fix. They are:\n",
    "    - Add error message handling for attribute errors like total=gran or skus=a\n",
    "    - Reduce the iso datetime format from \"2017-10-01T00:00:00.000Z\" to \"2017-10-01\"\n",
    "    - Create better response labeling to differentiate between price and unit counts\n",
    "    - Rethink logic for filters to clean up the code\n",
    "    - Serve the API on Google's App Engine\n",
    "    "
   ]
  },
  {
   "cell_type": "markdown",
   "metadata": {},
   "source": [
    "## RESTful webservice\n",
    "\n",
    "Part 1) \n",
    "\n",
    "Design a RESTful web service that will provide demand forecasts to users. This service\n",
    "should support at least three types of requests:\n",
    "- i) Single SKU forecasts: In this case, users provide at least a SKU number, a target week for the\n",
    "forecast, and optionally additional factors affecting demand such as the presence of\n",
    "promotions and price.\n",
    "- ii) Batch forecasts: In this case, users specify a time window and receive baseline forecasts for\n",
    "all stocked SKUs within that time window.\n",
    "- iii) Manual overrides: In this case a user may provide an override to the forecast for a specific\n",
    "SKU/week, the total forecasted demand for a specific SKU over a range of weeks, the total\n",
    "forecasted demand over a class of SKUs for a given week, or the total forecasted demand over a\n",
    "class and range of weeks.\n",
    "\n",
    "Your answer should consist of concrete examples of the inputs (appropriately formatted\n",
    "depending on whether you use GET or POST requests) and the JSON formatted responses for\n",
    "each of the three types of request."
   ]
  },
  {
   "cell_type": "markdown",
   "metadata": {},
   "source": [
    "#### SKU info\n",
    "\n",
    "Pull information about individual skus based on a sku dictionary. Populated from a product info"
   ]
  },
  {
   "cell_type": "markdown",
   "metadata": {},
   "source": [
    "request:\n",
    "http://0.0.0.0/api/v1.0/skus/2\n",
    "\n",
    "response:\n",
    "{\n",
    "  \"2\": {\n",
    "    \"Price\": \"$4.50\", \n",
    "    \"Product Category\": \"fasteners\", \n",
    "    \"Product Description\": \"Red Stapler\", \n",
    "    \"Promotion\": \"nan\", \n",
    "    \"SKU\": \"2\"\n",
    "  }\n",
    "}"
   ]
  },
  {
   "cell_type": "code",
   "execution_count": 492,
   "metadata": {
    "collapsed": true
   },
   "outputs": [],
   "source": [
    "prod_info = {\n",
    "        \"Product Information\":{\n",
    "        \"1\":{\n",
    "        \"SKU\":\"1\",\n",
    "        \"Product Description\":\"Legal Paper, 50 pages\",\n",
    "        \"Price\":\"15.00\",\n",
    "        \"Promotion\":\"$13.00\",\n",
    "        \"Product Category\":\"paper_goods\"\n",
    "        },\n",
    "        \"2\":{\n",
    "        \"SKU\":\"2\",\n",
    "        \"Product Description\":\"Red Stapler\",\n",
    "        \"Price\":\"$4.50\",\n",
    "        \"Promotion\":\"nan\",\n",
    "        \"Product Category\":\"fasteners\"\n",
    "        }}}"
   ]
  },
  {
   "cell_type": "code",
   "execution_count": 495,
   "metadata": {},
   "outputs": [
    {
     "data": {
      "text/plain": [
       "15.0"
      ]
     },
     "execution_count": 495,
     "metadata": {},
     "output_type": "execute_result"
    }
   ],
   "source": [
    "float(prod_info['Product Information']['1']['Price'])"
   ]
  },
  {
   "cell_type": "markdown",
   "metadata": {},
   "source": [
    "# i)\n",
    "\n",
    "Search for specific skus based on date range"
   ]
  },
  {
   "cell_type": "markdown",
   "metadata": {},
   "source": [
    "GET http://0.0.0.0/api/v1.0/skus/forecasts?wk_range=2015-01-01,2015-02-01&skus=1"
   ]
  },
  {
   "cell_type": "markdown",
   "metadata": {},
   "source": [
    "{\"1\":{\"2015-01-04T00:00:00.000Z\":87,\"2015-01-11T00:00:00.000Z\":93,\"2015-01-18T00:00:00.000Z\":61,\"2015-01-25T00:00:00.000Z\":73,\"2015-02-01T00:00:00.000Z\":55}}"
   ]
  },
  {
   "cell_type": "markdown",
   "metadata": {},
   "source": [
    "GET http://0.0.0.0/api/v1.0/skus/forecasts?wk_range=2015-01-01,2015-02-01&skus=1,4"
   ]
  },
  {
   "cell_type": "markdown",
   "metadata": {},
   "source": [
    "{\"1\":{\"2015-01-04T00:00:00.000Z\":87,\"2015-01-11T00:00:00.000Z\":93,\"2015-01-18T00:00:00.000Z\":61,\"2015-01-25T00:00:00.000Z\":73,\"2015-02-01T00:00:00.000Z\":55},\"4\":{\"2015-01-04T00:00:00.000Z\":59,\"2015-01-11T00:00:00.000Z\":67,\"2015-01-18T00:00:00.000Z\":13,\"2015-01-25T00:00:00.000Z\":27,\"2015-02-01T00:00:00.000Z\":88}}"
   ]
  },
  {
   "cell_type": "markdown",
   "metadata": {},
   "source": [
    "#### Note\n",
    "\n",
    "Price version, pull price of each sku from its product information dictionary and multiply it to the output for it's unit counts to generate a dollar count.\n",
    "\n",
    "Only setup for first 5 skus.."
   ]
  },
  {
   "cell_type": "markdown",
   "metadata": {},
   "source": [
    "GET http://0.0.0.0/api/v1.0/skus/forecasts?wk_range=2017-10-01,2017-11-01&cat=cat1&price=True"
   ]
  },
  {
   "cell_type": "markdown",
   "metadata": {},
   "source": [
    "{\"0\":{\"2017-10-01T00:00:00.000Z\":154.0,\"2017-10-08T00:00:00.000Z\":7.0,\"2017-10-15T00:00:00.000Z\":483.0,\"2017-10-22T00:00:00.000Z\":350.0,\"2017-10-29T00:00:00.000Z\":259.0},\"1\":{\"2017-10-01T00:00:00.000Z\":720.0,\"2017-10-08T00:00:00.000Z\":975.0,\"2017-10-15T00:00:00.000Z\":15.0,\"2017-10-22T00:00:00.000Z\":885.0,\"2017-10-29T00:00:00.000Z\":1275.0},\"2\":{\"2017-10-01T00:00:00.000Z\":40.5,\"2017-10-08T00:00:00.000Z\":436.5,\"2017-10-15T00:00:00.000Z\":90.0,\"2017-10-22T00:00:00.000Z\":189.0,\"2017-10-29T00:00:00.000Z\":256.5},\"3\":{\"2017-10-01T00:00:00.000Z\":35.94,\"2017-10-08T00:00:00.000Z\":533.11,\"2017-10-15T00:00:00.000Z\":131.78,\"2017-10-22T00:00:00.000Z\":419.3,\"2017-10-29T00:00:00.000Z\":329.45}}"
   ]
  },
  {
   "cell_type": "markdown",
   "metadata": {},
   "source": [
    "# ii) \n",
    "\n",
    "Search skus based on date ranges, categories, or specific skus"
   ]
  },
  {
   "cell_type": "markdown",
   "metadata": {},
   "source": [
    "GET http://0.0.0.0/api/v1.0/skus/forecasts?skus=1,4"
   ]
  },
  {
   "cell_type": "markdown",
   "metadata": {},
   "source": [
    "{\"1\":{\"2015-01-04T00:00:00.000Z\":87,\"2015-01-11T00:00:00.000Z\":93,\"2015-01-18T00:00:00.000Z\":61,\"2015-01-25T00:00:00.000Z\":73,\"2015-02-01T00:00:00.000Z\":55,\"2015-02-08T00:00:00.000Z\":9,\"2015-02-15T00:00:00.000Z\":92,\"2015-02-22T00:00:00.000Z\":66,\"2015-03-01T00:00:00.000Z\":56,\"2015-03-08T00:00:00.000Z\":1,\"2015-03-15T00:00:00.000Z\":64,\"2015-03-22T00:00:00.000Z\":3,\"2015-03-29T00:00:00.000Z\":47,\"2015-04-05T00:00:00.000Z\":39,\"2015-04-12T00:00:00.000Z\":54,\"2015-04-19T00:00:00.000Z\":7,\"2015-04-26T00:00:00.000Z\":33,\"2015-05-03T00:00:00.000Z\":9,\"2015-05-10T00:00:00.000Z\":35,\"2015-05-17T00:00:00.000Z\":17,\"2015-05-24T00:00:00.000Z\":22,\"2015-05-31T00:00:00.000Z\":80,\"2015-06-07T00:00:00.000Z\":19,\"2015-06-14T00:00:00.000Z\":70,\"2015-06-21T00:00:00.000Z\":56,\"2015-06-28T00:00:00.000Z\":92,\"2015-07-05T00:00:00.000Z\":95,\"2015-07-12T00:00:00.000Z\":19,\"2015-07-19T00:00:00.000Z\":84,\"2015-07-26T00:00:00.000Z\":62,\"2015-08-02T00:00:00.000Z\":16,\"2015-08-09T00:00:00.000Z\":45,\"2015-08-16T00:00:00.000Z\":56,\"2015-08-23T00:00:00.000Z\":79,\"2015-08-30T00:00:00.000Z\":46,\"2015-09-06T00:00:00.000Z\":44,\"2015-09-13T00:00:00.000Z\":19,\"2015-09-20T00:00:00.000Z\":17,\"2015-09-27T00:00:00.000Z\":42,\"2015-10-04T00:00:00.000Z\":62,\"2015-10-11T00:00:00.000Z\":74,\"2015-10-18T00:00:00.000Z\":16,\"2015-10-25T00:00:00.000Z\":84,\"2015-11-01T00:00:00.000Z\":86,\"2015-11-08T00:00:00.000Z\":15,\"2015-11-15T00:00:00.000Z\":81,\"2015-11-22T00:00:00.000Z\":4,\"2015-11-29T00:00:00.000Z\":97,\"2015-12-06T00:00:00.000Z\":79,\"2015-12-13T00:00:00.000Z\":74,\"2015-12-20T00:00:00.000Z\":19,\"2015-12-27T00:00:00.000Z\":85,\"2016-01-03T00:00:00.000Z\":89,\"2016-01-10T00:00:00.000Z\":11,\"2016-01-17T00:00:00.000Z\":50,\"2016-01-24T00:00:00.000Z\":94,\"2016-01-31T00:00:00.000Z\":10,\"2016-02-07T00:00:00.000Z\":80,\"2016-02-14T00:00:00.000Z\":17,\"2016-02-21T00:00:00.000Z\":74,\"2016-02-28T00:00:00.000Z\":58,\"2016-03-06T00:00:00.000Z\":72,\"2016-03-13T00:00:00.000Z\":43,\"2016-03-20T00:00:00.000Z\":14,\"2016-03-27T00:00:00.000Z\":73,\"2016-04-03T00:00:00.000Z\":91,\"2016-04-10T00:00:00.000Z\":61,\"2016-04-17T00:00:00.000Z\":4,\"2016-04-24T00:00:00.000Z\":34,\"2016-05-01T00:00:00.000Z\":30,\"2016-05-08T00:00:00.000Z\":47,\"2016-05-15T00:00:00.000Z\":48,\"2016-05-22T00:00:00.000Z\":32,\"2016-05-29T00:00:00.000Z\":2,\"2016-06-05T00:00:00.000Z\":66,\"2016-06-12T00:00:00.000Z\":26,\"2016-06-19T00:00:00.000Z\":55,\"2016-06-26T00:00:00.000Z\":5,\"2016-07-03T00:00:00.000Z\":90,\"2016-07-10T00:00:00.000Z\":70,\"2016-07-17T00:00:00.000Z\":18,\"2016-07-24T00:00:00.000Z\":7,\"2016-07-31T00:00:00.000Z\":48,\"2016-08-07T00:00:00.000Z\":91,\"2016-08-14T00:00:00.000Z\":74,\"2016-08-21T00:00:00.000Z\":78,\"2016-08-28T00:00:00.000Z\":98,\"2016-09-04T00:00:00.000Z\":8,\"2016-09-11T00:00:00.000Z\":24,\"2016-09-18T00:00:00.000Z\":5,\"2016-09-25T00:00:00.000Z\":17,\"2016-10-02T00:00:00.000Z\":23,\"2016-10-09T00:00:00.000Z\":84,\"2016-10-16T00:00:00.000Z\":70,\"2016-10-23T00:00:00.000Z\":63,\"2016-10-30T00:00:00.000Z\":94,\"2016-11-06T00:00:00.000Z\":47,\"2016-11-13T00:00:00.000Z\":75,\"2016-11-20T00:00:00.000Z\":63,\"2016-11-27T00:00:00.000Z\":89,\"2016-12-04T00:00:00.000Z\":58,\"2016-12-11T00:00:00.000Z\":98,\"2016-12-18T00:00:00.000Z\":51,\"2016-12-25T00:00:00.000Z\":4,\"2017-01-01T00:00:00.000Z\":11,\"2017-01-08T00:00:00.000Z\":41,\"2017-01-15T00:00:00.000Z\":36,\"2017-01-22T00:00:00.000Z\":16,\"2017-01-29T00:00:00.000Z\":3,\"2017-02-05T00:00:00.000Z\":60,\"2017-02-12T00:00:00.000Z\":77,\"2017-02-19T00:00:00.000Z\":29,\"2017-02-26T00:00:00.000Z\":73,\"2017-03-05T00:00:00.000Z\":48,\"2017-03-12T00:00:00.000Z\":47,\"2017-03-19T00:00:00.000Z\":12,\"2017-03-26T00:00:00.000Z\":30,\"2017-04-02T00:00:00.000Z\":72,\"2017-04-09T00:00:00.000Z\":58,\"2017-04-16T00:00:00.000Z\":33,\"2017-04-23T00:00:00.000Z\":33,\"2017-04-30T00:00:00.000Z\":61,\"2017-05-07T00:00:00.000Z\":50,\"2017-05-14T00:00:00.000Z\":95,\"2017-05-21T00:00:00.000Z\":86,\"2017-05-28T00:00:00.000Z\":79,\"2017-06-04T00:00:00.000Z\":41,\"2017-06-11T00:00:00.000Z\":65,\"2017-06-18T00:00:00.000Z\":93,\"2017-06-25T00:00:00.000Z\":38,\"2017-07-02T00:00:00.000Z\":90,\"2017-07-09T00:00:00.000Z\":43,\"2017-07-16T00:00:00.000Z\":59,\"2017-07-23T00:00:00.000Z\":36,\"2017-07-30T00:00:00.000Z\":52,\"2017-08-06T00:00:00.000Z\":45,\"2017-08-13T00:00:00.000Z\":12,\"2017-08-20T00:00:00.000Z\":77,\"2017-08-27T00:00:00.000Z\":96,\"2017-09-03T00:00:00.000Z\":72,\"2017-09-10T00:00:00.000Z\":19,\"2017-09-17T00:00:00.000Z\":37,\"2017-09-24T00:00:00.000Z\":9,\"2017-10-01T00:00:00.000Z\":5,\"2017-10-08T00:00:00.000Z\":97,\"2017-10-15T00:00:00.000Z\":93,\"2017-10-22T00:00:00.000Z\":77,\"2017-10-29T00:00:00.000Z\":23,\"2017-11-05T00:00:00.000Z\":79,\"2017-11-12T00:00:00.000Z\":22,\"2017-11-19T00:00:00.000Z\":25,\"2017-11-26T00:00:00.000Z\":39},\"4\":{\"2015-01-04T00:00:00.000Z\":59,\"2015-01-11T00:00:00.000Z\":67,\"2015-01-18T00:00:00.000Z\":13,\"2015-01-25T00:00:00.000Z\":27,\"2015-02-01T00:00:00.000Z\":88,\"2015-02-08T00:00:00.000Z\":99,\"2015-02-15T00:00:00.000Z\":41,\"2015-02-22T00:00:00.000Z\":13,\"2015-03-01T00:00:00.000Z\":53,\"2015-03-08T00:00:00.000Z\":46,\"2015-03-15T00:00:00.000Z\":2,\"2015-03-22T00:00:00.000Z\":89,\"2015-03-29T00:00:00.000Z\":87,\"2015-04-05T00:00:00.000Z\":60,\"2015-04-12T00:00:00.000Z\":61,\"2015-04-19T00:00:00.000Z\":73,\"2015-04-26T00:00:00.000Z\":37,\"2015-05-03T00:00:00.000Z\":71,\"2015-05-10T00:00:00.000Z\":26,\"2015-05-17T00:00:00.000Z\":37,\"2015-05-24T00:00:00.000Z\":2,\"2015-05-31T00:00:00.000Z\":24,\"2015-06-07T00:00:00.000Z\":13,\"2015-06-14T00:00:00.000Z\":16,\"2015-06-21T00:00:00.000Z\":16,\"2015-06-28T00:00:00.000Z\":1,\"2015-07-05T00:00:00.000Z\":68,\"2015-07-12T00:00:00.000Z\":29,\"2015-07-19T00:00:00.000Z\":90,\"2015-07-26T00:00:00.000Z\":53,\"2015-08-02T00:00:00.000Z\":56,\"2015-08-09T00:00:00.000Z\":34,\"2015-08-16T00:00:00.000Z\":72,\"2015-08-23T00:00:00.000Z\":79,\"2015-08-30T00:00:00.000Z\":83,\"2015-09-06T00:00:00.000Z\":89,\"2015-09-13T00:00:00.000Z\":98,\"2015-09-20T00:00:00.000Z\":58,\"2015-09-27T00:00:00.000Z\":89,\"2015-10-04T00:00:00.000Z\":36,\"2015-10-11T00:00:00.000Z\":52,\"2015-10-18T00:00:00.000Z\":59,\"2015-10-25T00:00:00.000Z\":72,\"2015-11-01T00:00:00.000Z\":6,\"2015-11-08T00:00:00.000Z\":70,\"2015-11-15T00:00:00.000Z\":87,\"2015-11-22T00:00:00.000Z\":98,\"2015-11-29T00:00:00.000Z\":26,\"2015-12-06T00:00:00.000Z\":94,\"2015-12-13T00:00:00.000Z\":79,\"2015-12-20T00:00:00.000Z\":31,\"2015-12-27T00:00:00.000Z\":43,\"2016-01-03T00:00:00.000Z\":53,\"2016-01-10T00:00:00.000Z\":80,\"2016-01-17T00:00:00.000Z\":55,\"2016-01-24T00:00:00.000Z\":94,\"2016-01-31T00:00:00.000Z\":6,\"2016-02-07T00:00:00.000Z\":23,\"2016-02-14T00:00:00.000Z\":41,\"2016-02-21T00:00:00.000Z\":24,\"2016-02-28T00:00:00.000Z\":86,\"2016-03-06T00:00:00.000Z\":29,\"2016-03-13T00:00:00.000Z\":36,\"2016-03-20T00:00:00.000Z\":34,\"2016-03-27T00:00:00.000Z\":45,\"2016-04-03T00:00:00.000Z\":31,\"2016-04-10T00:00:00.000Z\":11,\"2016-04-17T00:00:00.000Z\":48,\"2016-04-24T00:00:00.000Z\":12,\"2016-05-01T00:00:00.000Z\":70,\"2016-05-08T00:00:00.000Z\":99,\"2016-05-15T00:00:00.000Z\":28,\"2016-05-22T00:00:00.000Z\":81,\"2016-05-29T00:00:00.000Z\":40,\"2016-06-05T00:00:00.000Z\":71,\"2016-06-12T00:00:00.000Z\":21,\"2016-06-19T00:00:00.000Z\":41,\"2016-06-26T00:00:00.000Z\":56,\"2016-07-03T00:00:00.000Z\":84,\"2016-07-10T00:00:00.000Z\":33,\"2016-07-17T00:00:00.000Z\":73,\"2016-07-24T00:00:00.000Z\":74,\"2016-07-31T00:00:00.000Z\":63,\"2016-08-07T00:00:00.000Z\":77,\"2016-08-14T00:00:00.000Z\":1,\"2016-08-21T00:00:00.000Z\":43,\"2016-08-28T00:00:00.000Z\":92,\"2016-09-04T00:00:00.000Z\":51,\"2016-09-11T00:00:00.000Z\":10,\"2016-09-18T00:00:00.000Z\":42,\"2016-09-25T00:00:00.000Z\":46,\"2016-10-02T00:00:00.000Z\":54,\"2016-10-09T00:00:00.000Z\":99,\"2016-10-16T00:00:00.000Z\":22,\"2016-10-23T00:00:00.000Z\":46,\"2016-10-30T00:00:00.000Z\":94,\"2016-11-06T00:00:00.000Z\":92,\"2016-11-13T00:00:00.000Z\":18,\"2016-11-20T00:00:00.000Z\":71,\"2016-11-27T00:00:00.000Z\":92,\"2016-12-04T00:00:00.000Z\":2,\"2016-12-11T00:00:00.000Z\":35,\"2016-12-18T00:00:00.000Z\":93,\"2016-12-25T00:00:00.000Z\":47,\"2017-01-01T00:00:00.000Z\":87,\"2017-01-08T00:00:00.000Z\":32,\"2017-01-15T00:00:00.000Z\":75,\"2017-01-22T00:00:00.000Z\":6,\"2017-01-29T00:00:00.000Z\":53,\"2017-02-05T00:00:00.000Z\":50,\"2017-02-12T00:00:00.000Z\":92,\"2017-02-19T00:00:00.000Z\":70,\"2017-02-26T00:00:00.000Z\":58,\"2017-03-05T00:00:00.000Z\":60,\"2017-03-12T00:00:00.000Z\":44,\"2017-03-19T00:00:00.000Z\":88,\"2017-03-26T00:00:00.000Z\":36,\"2017-04-02T00:00:00.000Z\":85,\"2017-04-09T00:00:00.000Z\":90,\"2017-04-16T00:00:00.000Z\":19,\"2017-04-23T00:00:00.000Z\":4,\"2017-04-30T00:00:00.000Z\":97,\"2017-05-07T00:00:00.000Z\":79,\"2017-05-14T00:00:00.000Z\":74,\"2017-05-21T00:00:00.000Z\":47,\"2017-05-28T00:00:00.000Z\":3,\"2017-06-04T00:00:00.000Z\":96,\"2017-06-11T00:00:00.000Z\":76,\"2017-06-18T00:00:00.000Z\":99,\"2017-06-25T00:00:00.000Z\":98,\"2017-07-02T00:00:00.000Z\":51,\"2017-07-09T00:00:00.000Z\":10,\"2017-07-16T00:00:00.000Z\":27,\"2017-07-23T00:00:00.000Z\":3,\"2017-07-30T00:00:00.000Z\":56,\"2017-08-06T00:00:00.000Z\":59,\"2017-08-13T00:00:00.000Z\":84,\"2017-08-20T00:00:00.000Z\":0,\"2017-08-27T00:00:00.000Z\":80,\"2017-09-03T00:00:00.000Z\":51,\"2017-09-10T00:00:00.000Z\":53,\"2017-09-17T00:00:00.000Z\":47,\"2017-09-24T00:00:00.000Z\":4,\"2017-10-01T00:00:00.000Z\":1,\"2017-10-08T00:00:00.000Z\":2,\"2017-10-15T00:00:00.000Z\":58,\"2017-10-22T00:00:00.000Z\":39,\"2017-10-29T00:00:00.000Z\":44,\"2017-11-05T00:00:00.000Z\":78,\"2017-11-12T00:00:00.000Z\":66,\"2017-11-19T00:00:00.000Z\":71,\"2017-11-26T00:00:00.000Z\":14}}"
   ]
  },
  {
   "cell_type": "markdown",
   "metadata": {},
   "source": [
    "#### Note\n",
    "\n",
    "Original idea of format:"
   ]
  },
  {
   "cell_type": "code",
   "execution_count": null,
   "metadata": {
    "collapsed": true
   },
   "outputs": [],
   "source": [
    "{\"Forecasts\":\n",
    "    [\n",
    "        {\n",
    "        \"SKU\":\"123456\",\n",
    "        \"Forecast\":\n",
    "            {\n",
    "                \"01012017\":\"100\",\n",
    "                \"01082017\":\"97\",\n",
    "                \"01152017\":\"80\",\n",
    "                \"01222017\":\"96\",\n",
    "                \"01292017\":\"103\"\n",
    "            },\n",
    "        },\n",
    "        {\n",
    "        \"SKU\":\"234567\",\n",
    "        \"Forecast\":\n",
    "            {\n",
    "                \"01012017\":\"23\",\n",
    "                \"01082017\":\"34\",\n",
    "                \"01152017\":\"32\",\n",
    "                \"01222017\":\"32\",\n",
    "                \"01292017\":\"29\"\n",
    "            }\n",
    "        },\n",
    "        ...\n",
    "        {\n",
    "        \"SKU\":\"345678\",\n",
    "        \"Forecast\":\n",
    "            {\n",
    "                \"01012017\":\"2\",\n",
    "                \"01082017\":\"2\",\n",
    "                \"01152017\":\"2\",\n",
    "                \"01222017\":\"4\",\n",
    "                \"01292017\":\"3\"\n",
    "            }\n",
    "        },\n",
    "    ]\n",
    "}"
   ]
  },
  {
   "cell_type": "markdown",
   "metadata": {},
   "source": [
    "GET http://0.0.0.0/api/v1.0/skus/forecasts?wk_range=2015-01-01,2015-02-01&cat=cat3"
   ]
  },
  {
   "cell_type": "markdown",
   "metadata": {},
   "source": [
    "{\"7\":{\"2015-01-04T00:00:00.000Z\":49,\"2015-01-11T00:00:00.000Z\":10,\"2015-01-18T00:00:00.000Z\":34,\"2015-01-25T00:00:00.000Z\":42,\"2015-02-01T00:00:00.000Z\":82},\"8\":{\"2015-01-04T00:00:00.000Z\":37,\"2015-01-11T00:00:00.000Z\":21,\"2015-01-18T00:00:00.000Z\":55,\"2015-01-25T00:00:00.000Z\":56,\"2015-02-01T00:00:00.000Z\":80},\"9\":{\"2015-01-04T00:00:00.000Z\":48,\"2015-01-11T00:00:00.000Z\":83,\"2015-01-18T00:00:00.000Z\":64,\"2015-01-25T00:00:00.000Z\":59,\"2015-02-01T00:00:00.000Z\":98}}"
   ]
  },
  {
   "cell_type": "markdown",
   "metadata": {},
   "source": [
    "# iii)\n",
    "\n",
    "Override values for specific sku for given date, can do multiple at once"
   ]
  },
  {
   "cell_type": "markdown",
   "metadata": {},
   "source": [
    "override forecast for specific week/sku:\n",
    "\n",
    "curl -d '{\"skus\":{\"0\":{\"2017-07-23\": \"0\",\"2017-07-30\": \"0\"}}}' -H \"Content-Type: application/json\" -X POST http://0.0.0.0/api/v1.0/skus/forecasts"
   ]
  },
  {
   "cell_type": "markdown",
   "metadata": {},
   "source": [
    "Example format:\n",
    "\n",
    "POST\n",
    "\n",
    "{\n",
    "    \"skus\": {\n",
    "        \"0\": {\n",
    "            \"2015-01-04\": \"11\",\n",
    "            \"2015-01-11\": \"25\"\n",
    "        },\n",
    "        \"1\": {\n",
    "            \"2015-01-04\": \"2\",\n",
    "            \"2015-01-11\": \"4\"\n",
    "        }\n",
    "    }\n",
    "}"
   ]
  },
  {
   "cell_type": "markdown",
   "metadata": {},
   "source": [
    "#### Note\n",
    "\n",
    "I don't understand how updating a total would work without modifying the underlying data which doesn't make sense to me..\n",
    "\n",
    "My best guess would be to take the total over all weeks they want to update, take the difference between the old total and new total, and then divide it by the number of weeks the total is for, and then add that value to each week's forecast. But because this seems like a stretch in logic - I would ask the requester for more information before making modifications like that."
   ]
  },
  {
   "cell_type": "markdown",
   "metadata": {},
   "source": [
    "----\n",
    "\n",
    "Part 2) \n",
    "\n",
    "Suppose you were to deploy this service. \n",
    "    - What resources would you need to host this service? \n",
    "    - What tools would you use for monitoring the health of the service? \n",
    "    - What tools would you use for source code management, testing, deployment, and automation? \n",
    "    - How would you configure a continuous delivery pipeline using these tools? \n",
    "    - Which of these tools have you used in prior projects?"
   ]
  },
  {
   "cell_type": "markdown",
   "metadata": {},
   "source": [
    "#### Note\n",
    "\n",
    "1. A server hosted by company or whatever service you currently use to host apis like amazon api gateway or google api engine. \n",
    "2. I used postman to send some POST requests and looked into its other options. You can schedule monitoring of the API with tests and other timed events.\n",
    "3. I would use github for source code management, branch for different versions, and use autodeployment when commiting new changes to the codebase. \n",
    "4. Perhaps Gitlab or some other platform. But I am not clear on what CI/CD is.\n",
    "5. I've used github plenty before but I have not used the autodeployment feature. I also have used postman for POST requests but not for monitoring health of a service. \n"
   ]
  },
  {
   "cell_type": "markdown",
   "metadata": {},
   "source": [
    "-----\n",
    "\n",
    "Part 3) \n",
    "\n",
    "Implement a web service that consumes the requests and produces the responses you scoped out in the first exercise. For the sake of this exercise, you may limit service to only provide forecasts for 10 SKUs. You may use dummy values for the forecasts and SKU numbers.\n",
    "\n",
    "Manually overridden forecasts should be recorded and contained in subsequent requests to the service. Moreover, forecasts should be automatically updated to remain consistent with manual overrides to the total forecasted demand across all weeks or all SKUs. \n",
    "\n",
    "Once completed, please provide an endpoint for your web service."
   ]
  },
  {
   "cell_type": "markdown",
   "metadata": {},
   "source": [
    "#### Note\n",
    "\n",
    "run app with command: 'sudo python hello.py'\n",
    "\n",
    "access the api at url: 'http://0.0.0.0/api/v1.0/skus/forecasts'\n"
   ]
  },
  {
   "cell_type": "markdown",
   "metadata": {},
   "source": [
    "request:\n",
    "http://0.0.0.0/api/v1.0/skus/forecasts?wk_range=2017-07-23,2017-10-01&skus=1,3\n",
    "\n",
    "response:\n",
    "{\"1\":{\"2017-07-23T00:00:00.000Z\":2,\"2017-07-30T00:00:00.000Z\":4,\"2017-08-06T00:00:00.000Z\":22,\"2017-08-13T00:00:00.000Z\":51,\"2017-08-20T00:00:00.000Z\":101,\"2017-08-27T00:00:00.000Z\":9,\"2017-09-03T00:00:00.000Z\":45,\"2017-09-10T00:00:00.000Z\":21,\"2017-09-17T00:00:00.000Z\":67,\"2017-09-24T00:00:00.000Z\":79,\"2017-10-01T00:00:00.000Z\":48},\"3\":{\"2017-07-23T00:00:00.000Z\":79,\"2017-07-30T00:00:00.000Z\":34,\"2017-08-06T00:00:00.000Z\":58,\"2017-08-13T00:00:00.000Z\":87,\"2017-08-20T00:00:00.000Z\":70,\"2017-08-27T00:00:00.000Z\":77,\"2017-09-03T00:00:00.000Z\":73,\"2017-09-10T00:00:00.000Z\":45,\"2017-09-17T00:00:00.000Z\":72,\"2017-09-24T00:00:00.000Z\":87,\"2017-10-01T00:00:00.000Z\":6}}"
   ]
  },
  {
   "cell_type": "markdown",
   "metadata": {},
   "source": [
    "request:\n",
    "http://0.0.0.0/api/v1.0/skus/forecasts?wk_range=2017-07-23&skus=1,3\n",
    "\n",
    "response:\n",
    "\"1\":{\"2017-07-23T00:00:00.000Z\":2},\"3\":{\"2017-07-23T00:00:00.000Z\":79}}"
   ]
  },
  {
   "cell_type": "markdown",
   "metadata": {},
   "source": [
    "request:\n",
    "http://0.0.0.0/api/v1.0/skus/forecasts?wk_range=2017-10-01&cat=cat2\n",
    "\n",
    "response:\n",
    "{\"4\":{\"2017-10-01T00:00:00.000Z\":3},\"5\":{\"2017-10-01T00:00:00.000Z\":58},\"6\":{\"2017-10-01T00:00:00.000Z\":27}}"
   ]
  },
  {
   "cell_type": "markdown",
   "metadata": {},
   "source": [
    "request:\n",
    "http://0.0.0.0/api/v1.0/skus/forecasts?wk_range=2017-10-01,2017-11-01&skus=1,4,9&total=sku\n",
    "\n",
    "response:\n",
    "{\"1\":258,\"4\":166,\"9\":195}"
   ]
  },
  {
   "cell_type": "markdown",
   "metadata": {},
   "source": [
    "request:\n",
    "http://0.0.0.0/api/v1.0/skus/forecasts?wk_range=2017-10-01,2017-11-01&cat=cat1&total=grand\n",
    "\n",
    "response:\n",
    "{\n",
    "  \"grand total\": \"904\"\n",
    "}"
   ]
  },
  {
   "cell_type": "markdown",
   "metadata": {},
   "source": [
    "---\n",
    "\n",
    "Part 4) \n",
    "\n",
    "Implement a web application that provides an interface to your service. Your application’s interface should contain a table similar to the one shown below:\n",
    "\n",
    "For 10 fictional SKUs above table contains:\n",
    "    - Actual demand for last 3 weeks (wk1-wk3)\n",
    "    - Demand forecasts for 10 consecutive weeks (wk4-wk13, assuming current week is wk4 of Q1)\n",
    "\n",
    "Additionally, the table contains totals of demand projections across weeks for each SKU, totals for SKUs for each week, and grand total for entire category and quarter. This table should be populated by making a call to your web service. Users should be allowed to edit values in appropriate cells (to be determined by you) which should result in a manual override call to the forecast service, as well as a call to the service to repopulate the table with\n",
    "revised forecasts (please come up with appropriate rules to derive SKU-Wk level overridden forecast using the values provided by user in editable cells). \n",
    "\n",
    "Once completed, please provide a URL for your web application."
   ]
  },
  {
   "cell_type": "markdown",
   "metadata": {},
   "source": [
    "#### Note\n",
    "\n",
    "Table url: http://0.0.0.0/api/v1.0/skus/forecasts/table\n",
    "\n",
    "I've made the future and current week forecasts of data editable to the end user. The rest of the data is frozen in the GUI since it makes sense to not modify the past data points and the totals - which are calculated each run based on the values of the forecasts.\n",
    "\n",
    "In addition, you can filter the table as you can with the forecast GET requests above. By category and individual sku. The date range will always center around the current date."
   ]
  },
  {
   "cell_type": "markdown",
   "metadata": {},
   "source": [
    "---\n",
    "\n",
    "Part 5) \n",
    "\n",
    "- What mechanisms/rules should be put in place to prevent conflicting output for multiple end-users? \n",
    "- How should distributed computing be engineered to scale the application for 1M SKUs, 52 weeks, and 1K concurrent end-users with service response time SLA (P99) of 100ms ?"
   ]
  },
  {
   "cell_type": "markdown",
   "metadata": {},
   "source": [
    "#### Note\n",
    "\n",
    "1. I'm not familiar with much of the software engineering aspects of building a producion ready API so these unfortunately are things I've never run into before. I know my setup would need to be modified to be more robust by using a SQL database to store SKU data on the backend. But in terms of how to modify the setup to distribute to end-users I would take advice from a more knowledgable engineer.\n",
    "\n",
    "I do understand that SLA (P99) measn that 99% of all responses would need to be under 100ms. "
   ]
  },
  {
   "cell_type": "code",
   "execution_count": null,
   "metadata": {
    "collapsed": true
   },
   "outputs": [],
   "source": []
  },
  {
   "cell_type": "markdown",
   "metadata": {},
   "source": [
    "# Sketch Pad"
   ]
  },
  {
   "cell_type": "code",
   "execution_count": 475,
   "metadata": {
    "collapsed": true
   },
   "outputs": [],
   "source": [
    "import numpy as np\n",
    "import pandas as pd\n",
    "\n",
    "dates = pd.date_range('2015-01', '2017-12', freq='W',format='%Y%m%d')\n",
    "data = pd.DataFrame(np.random.randint(100, size=(len(dates), 10)))\n",
    "data.set_index(dates, inplace=True)\n",
    "new_cols = []\n",
    "for i in data.columns:\n",
    "    new_cols.append(str(i))\n",
    "data.columns = new_cols"
   ]
  },
  {
   "cell_type": "code",
   "execution_count": 484,
   "metadata": {},
   "outputs": [
    {
     "ename": "AttributeError",
     "evalue": "'DatetimeIndex' object has no attribute 'dt'",
     "output_type": "error",
     "traceback": [
      "\u001b[0;31m---------------------------------------------------------------------------\u001b[0m",
      "\u001b[0;31mAttributeError\u001b[0m                            Traceback (most recent call last)",
      "\u001b[0;32m<ipython-input-484-0f799d1938d9>\u001b[0m in \u001b[0;36m<module>\u001b[0;34m()\u001b[0m\n\u001b[0;32m----> 1\u001b[0;31m \u001b[0mdata\u001b[0m\u001b[0;34m.\u001b[0m\u001b[0mloc\u001b[0m\u001b[0;34m[\u001b[0m\u001b[0mwk_start\u001b[0m\u001b[0;34m:\u001b[0m\u001b[0mwk_end\u001b[0m\u001b[0;34m]\u001b[0m\u001b[0;34m[\u001b[0m\u001b[0mskus\u001b[0m\u001b[0;34m]\u001b[0m\u001b[0;34m.\u001b[0m\u001b[0mindex\u001b[0m\u001b[0;34m.\u001b[0m\u001b[0mdt\u001b[0m\u001b[0;34m.\u001b[0m\u001b[0mstrftime\u001b[0m\u001b[0;34m(\u001b[0m\u001b[0;34m'%m/%d/%Y'\u001b[0m\u001b[0;34m)\u001b[0m\u001b[0;34m.\u001b[0m\u001b[0mto_json\u001b[0m\u001b[0;34m(\u001b[0m\u001b[0mdate_format\u001b[0m\u001b[0;34m=\u001b[0m\u001b[0;34m'iso'\u001b[0m\u001b[0;34m)\u001b[0m\u001b[0;34m\u001b[0m\u001b[0m\n\u001b[0m",
      "\u001b[0;31mAttributeError\u001b[0m: 'DatetimeIndex' object has no attribute 'dt'"
     ]
    }
   ],
   "source": [
    "data.loc[wk_start:wk_end][skus].dt.strftime('%m/%d/%Y').to_json(date_format='iso')"
   ]
  },
  {
   "cell_type": "code",
   "execution_count": 215,
   "metadata": {},
   "outputs": [
    {
     "data": {
      "text/plain": [
       "0    41\n",
       "1    46\n",
       "2    19\n",
       "3     4\n",
       "4    36\n",
       "5     5\n",
       "6    72\n",
       "7    86\n",
       "8    69\n",
       "9    17\n",
       "Name: 2015-01-04 00:00:00, dtype: int64"
      ]
     },
     "execution_count": 215,
     "metadata": {},
     "output_type": "execute_result"
    }
   ],
   "source": [
    "data.loc['2015-01-04':'']"
   ]
  },
  {
   "cell_type": "code",
   "execution_count": 210,
   "metadata": {
    "collapsed": true
   },
   "outputs": [],
   "source": [
    "str_dates = []\n",
    "for date in dates.map(pd.Timestamp.date):\n",
    "    str_dates.append(str(date))"
   ]
  },
  {
   "cell_type": "code",
   "execution_count": 211,
   "metadata": {},
   "outputs": [
    {
     "data": {
      "text/plain": [
       "['2015-01-04',\n",
       " '2015-01-11',\n",
       " '2015-01-18',\n",
       " '2015-01-25',\n",
       " '2015-02-01',\n",
       " '2015-02-08',\n",
       " '2015-02-15',\n",
       " '2015-02-22',\n",
       " '2015-03-01',\n",
       " '2015-03-08',\n",
       " '2015-03-15',\n",
       " '2015-03-22',\n",
       " '2015-03-29',\n",
       " '2015-04-05',\n",
       " '2015-04-12',\n",
       " '2015-04-19',\n",
       " '2015-04-26',\n",
       " '2015-05-03',\n",
       " '2015-05-10',\n",
       " '2015-05-17',\n",
       " '2015-05-24',\n",
       " '2015-05-31',\n",
       " '2015-06-07',\n",
       " '2015-06-14',\n",
       " '2015-06-21',\n",
       " '2015-06-28',\n",
       " '2015-07-05',\n",
       " '2015-07-12',\n",
       " '2015-07-19',\n",
       " '2015-07-26',\n",
       " '2015-08-02',\n",
       " '2015-08-09',\n",
       " '2015-08-16',\n",
       " '2015-08-23',\n",
       " '2015-08-30',\n",
       " '2015-09-06',\n",
       " '2015-09-13',\n",
       " '2015-09-20',\n",
       " '2015-09-27',\n",
       " '2015-10-04',\n",
       " '2015-10-11',\n",
       " '2015-10-18',\n",
       " '2015-10-25',\n",
       " '2015-11-01',\n",
       " '2015-11-08',\n",
       " '2015-11-15',\n",
       " '2015-11-22',\n",
       " '2015-11-29',\n",
       " '2015-12-06',\n",
       " '2015-12-13',\n",
       " '2015-12-20',\n",
       " '2015-12-27',\n",
       " '2016-01-03',\n",
       " '2016-01-10',\n",
       " '2016-01-17',\n",
       " '2016-01-24',\n",
       " '2016-01-31',\n",
       " '2016-02-07',\n",
       " '2016-02-14',\n",
       " '2016-02-21',\n",
       " '2016-02-28',\n",
       " '2016-03-06',\n",
       " '2016-03-13',\n",
       " '2016-03-20',\n",
       " '2016-03-27',\n",
       " '2016-04-03',\n",
       " '2016-04-10',\n",
       " '2016-04-17',\n",
       " '2016-04-24',\n",
       " '2016-05-01',\n",
       " '2016-05-08',\n",
       " '2016-05-15',\n",
       " '2016-05-22',\n",
       " '2016-05-29',\n",
       " '2016-06-05',\n",
       " '2016-06-12',\n",
       " '2016-06-19',\n",
       " '2016-06-26',\n",
       " '2016-07-03',\n",
       " '2016-07-10',\n",
       " '2016-07-17',\n",
       " '2016-07-24',\n",
       " '2016-07-31',\n",
       " '2016-08-07',\n",
       " '2016-08-14',\n",
       " '2016-08-21',\n",
       " '2016-08-28',\n",
       " '2016-09-04',\n",
       " '2016-09-11',\n",
       " '2016-09-18',\n",
       " '2016-09-25',\n",
       " '2016-10-02',\n",
       " '2016-10-09',\n",
       " '2016-10-16',\n",
       " '2016-10-23',\n",
       " '2016-10-30',\n",
       " '2016-11-06',\n",
       " '2016-11-13',\n",
       " '2016-11-20',\n",
       " '2016-11-27',\n",
       " '2016-12-04',\n",
       " '2016-12-11',\n",
       " '2016-12-18',\n",
       " '2016-12-25',\n",
       " '2017-01-01',\n",
       " '2017-01-08',\n",
       " '2017-01-15',\n",
       " '2017-01-22',\n",
       " '2017-01-29',\n",
       " '2017-02-05',\n",
       " '2017-02-12',\n",
       " '2017-02-19',\n",
       " '2017-02-26',\n",
       " '2017-03-05',\n",
       " '2017-03-12',\n",
       " '2017-03-19',\n",
       " '2017-03-26',\n",
       " '2017-04-02',\n",
       " '2017-04-09',\n",
       " '2017-04-16',\n",
       " '2017-04-23',\n",
       " '2017-04-30',\n",
       " '2017-05-07',\n",
       " '2017-05-14',\n",
       " '2017-05-21',\n",
       " '2017-05-28',\n",
       " '2017-06-04',\n",
       " '2017-06-11',\n",
       " '2017-06-18',\n",
       " '2017-06-25',\n",
       " '2017-07-02',\n",
       " '2017-07-09',\n",
       " '2017-07-16',\n",
       " '2017-07-23',\n",
       " '2017-07-30',\n",
       " '2017-08-06',\n",
       " '2017-08-13',\n",
       " '2017-08-20',\n",
       " '2017-08-27',\n",
       " '2017-09-03',\n",
       " '2017-09-10',\n",
       " '2017-09-17',\n",
       " '2017-09-24',\n",
       " '2017-10-01',\n",
       " '2017-10-08',\n",
       " '2017-10-15',\n",
       " '2017-10-22',\n",
       " '2017-10-29',\n",
       " '2017-11-05',\n",
       " '2017-11-12',\n",
       " '2017-11-19',\n",
       " '2017-11-26']"
      ]
     },
     "execution_count": 211,
     "metadata": {},
     "output_type": "execute_result"
    }
   ],
   "source": [
    "str_dates"
   ]
  },
  {
   "cell_type": "code",
   "execution_count": 184,
   "metadata": {},
   "outputs": [
    {
     "data": {
      "text/plain": [
       "2015-01-04    65\n",
       "2015-01-11    14\n",
       "2015-01-18    35\n",
       "2015-01-25    38\n",
       "2015-02-01    55\n",
       "Freq: W-SUN, Name: 1, dtype: int64"
      ]
     },
     "execution_count": 184,
     "metadata": {},
     "output_type": "execute_result"
    }
   ],
   "source": [
    "data['1'].head()"
   ]
  },
  {
   "cell_type": "code",
   "execution_count": 219,
   "metadata": {
    "collapsed": true
   },
   "outputs": [],
   "source": [
    "wk_range = '2015-01-04,2015-01-25'\n",
    "#wk_range = '2015-01-04'\n",
    "#wk_range = ''\n",
    "#skus = [0,1]\n",
    "skus = ['1','2']"
   ]
  },
  {
   "cell_type": "code",
   "execution_count": 220,
   "metadata": {
    "collapsed": true
   },
   "outputs": [],
   "source": [
    "if ',' in wk_range:\n",
    "    wk_start, wk_end = wk_range.split(',')\n",
    "else:\n",
    "    wk_start = wk_range\n",
    "    wk_end = wk_range"
   ]
  },
  {
   "cell_type": "code",
   "execution_count": 222,
   "metadata": {
    "scrolled": true
   },
   "outputs": [
    {
     "name": "stdout",
     "output_type": "stream",
     "text": [
      "             1   2\n",
      "2015-01-04  46  19\n",
      "2015-01-11  93  24\n",
      "2015-01-18  38  20\n",
      "2015-01-25  52  84\n"
     ]
    }
   ],
   "source": [
    "if wk_range:\n",
    "    print(data.loc[wk_start:wk_end][skus])\n",
    "else:\n",
    "    print(data.iloc[skus])"
   ]
  },
  {
   "cell_type": "code",
   "execution_count": 249,
   "metadata": {},
   "outputs": [
    {
     "name": "stdout",
     "output_type": "stream",
     "text": [
      "1    229\n",
      "2    147\n",
      "3    193\n",
      "4    245\n",
      "5    139\n",
      "dtype: int64\n"
     ]
    }
   ],
   "source": [
    "if wk_range:\n",
    "    print(data.loc[wk_start:wk_end][skus].sum())\n",
    "else:\n",
    "    print(data.iloc[skus].sum())"
   ]
  },
  {
   "cell_type": "code",
   "execution_count": 238,
   "metadata": {},
   "outputs": [
    {
     "data": {
      "text/plain": [
       "'{\"0\":{\"1420329600000\":41,\"1420934400000\":26,\"1421539200000\":20,\"1422144000000\":83},\"1\":{\"1420329600000\":46,\"1420934400000\":93,\"1421539200000\":38,\"1422144000000\":52},\"2\":{\"1420329600000\":19,\"1420934400000\":24,\"1421539200000\":20,\"1422144000000\":84},\"3\":{\"1420329600000\":4,\"1420934400000\":99,\"1421539200000\":78,\"1422144000000\":12},\"4\":{\"1420329600000\":36,\"1420934400000\":85,\"1421539200000\":45,\"1422144000000\":79},\"5\":{\"1420329600000\":5,\"1420934400000\":23,\"1421539200000\":91,\"1422144000000\":20},\"6\":{\"1420329600000\":72,\"1420934400000\":41,\"1421539200000\":18,\"1422144000000\":95},\"7\":{\"1420329600000\":86,\"1420934400000\":2,\"1421539200000\":23,\"1422144000000\":95},\"8\":{\"1420329600000\":69,\"1420934400000\":70,\"1421539200000\":20,\"1422144000000\":71},\"9\":{\"1420329600000\":17,\"1420934400000\":83,\"1421539200000\":31,\"1422144000000\":0}}'"
      ]
     },
     "execution_count": 238,
     "metadata": {},
     "output_type": "execute_result"
    }
   ],
   "source": [
    "#format for wk_range and skus\n",
    "\n",
    "data.loc[wk_start:wk_end].to_json()\n",
    "\n",
    "#data.loc['2015-01-05':'2015-01-25'][0]"
   ]
  },
  {
   "cell_type": "code",
   "execution_count": 84,
   "metadata": {},
   "outputs": [
    {
     "data": {
      "text/plain": [
       "{0: 22, 1: 91, 2: 23, 3: 63, 4: 11, 5: 60, 6: 51, 7: 78, 8: 10, 9: 79}"
      ]
     },
     "execution_count": 84,
     "metadata": {},
     "output_type": "execute_result"
    }
   ],
   "source": [
    "data.loc[wk_range].to_dict()"
   ]
  },
  {
   "cell_type": "code",
   "execution_count": 240,
   "metadata": {
    "collapsed": true
   },
   "outputs": [],
   "source": [
    "skus = '1,2,3,4,5' "
   ]
  },
  {
   "cell_type": "code",
   "execution_count": 241,
   "metadata": {
    "collapsed": true
   },
   "outputs": [],
   "source": [
    "skus = skus.split(',')"
   ]
  },
  {
   "cell_type": "code",
   "execution_count": 242,
   "metadata": {
    "collapsed": true
   },
   "outputs": [],
   "source": [
    "num_skus = []\n",
    "\n",
    "for sku in skus:\n",
    "    num_skus.append(int(sku))"
   ]
  },
  {
   "cell_type": "code",
   "execution_count": 248,
   "metadata": {
    "scrolled": true
   },
   "outputs": [
    {
     "data": {
      "text/plain": [
       "7772"
      ]
     },
     "execution_count": 248,
     "metadata": {},
     "output_type": "execute_result"
    }
   ],
   "source": [
    "data['1'].sum()"
   ]
  },
  {
   "cell_type": "code",
   "execution_count": 292,
   "metadata": {
    "collapsed": true
   },
   "outputs": [],
   "source": [
    "override = {\n",
    "    \"skus\": {\n",
    "        \"0\": {\n",
    "            \"2015-01-04\": \"15\",\n",
    "            \"2015-01-11\": \"32\"\n",
    "        }\n",
    "    }\n",
    "}"
   ]
  },
  {
   "cell_type": "code",
   "execution_count": null,
   "metadata": {
    "collapsed": true
   },
   "outputs": [],
   "source": [
    "{\"skus\":{\"0\":{\"2015-01-04\": \"15\",\"2015-01-11\": \"32\"}}}"
   ]
  },
  {
   "cell_type": "code",
   "execution_count": null,
   "metadata": {
    "collapsed": true
   },
   "outputs": [],
   "source": [
    "curl -d '{\"skus\":{\"0\":{\"2017-07-23\": \"0\",\"2017-07-30\": \"0\"}}}' -H \"Content-Type: application/json\" -X POST http://0.0.0.0/api/v1.0/skus/forecasts\n",
    "        \n",
    "        "
   ]
  },
  {
   "cell_type": "code",
   "execution_count": null,
   "metadata": {
    "collapsed": true
   },
   "outputs": [],
   "source": [
    "curl -H \"Content-Type: application/json\" -X POST -d '{\"username\":\"xyz\",\"password\":\"xyz\"}' http://localhost:3000/api/login\n",
    "        \n",
    "        \n",
    "        "
   ]
  },
  {
   "cell_type": "code",
   "execution_count": 293,
   "metadata": {
    "collapsed": true,
    "scrolled": true
   },
   "outputs": [],
   "source": [
    "for sku in override['skus'].keys():\n",
    "    for date,val in override['skus'][sku].items():\n",
    "        #print(date,val)\n",
    "        data.loc[date][sku] = val"
   ]
  },
  {
   "cell_type": "code",
   "execution_count": 295,
   "metadata": {},
   "outputs": [
    {
     "data": {
      "text/plain": [
       "2015-01-04    15\n",
       "2015-01-11    32\n",
       "2015-01-18    20\n",
       "2015-01-25    83\n",
       "2015-02-01    93\n",
       "Freq: W-SUN, Name: 0, dtype: int64"
      ]
     },
     "execution_count": 295,
     "metadata": {},
     "output_type": "execute_result"
    }
   ],
   "source": [
    "data['0'].head()"
   ]
  },
  {
   "cell_type": "code",
   "execution_count": 267,
   "metadata": {},
   "outputs": [
    {
     "data": {
      "text/plain": [
       "dict_keys(['2015-01-04', '2015-01-11'])"
      ]
     },
     "execution_count": 267,
     "metadata": {},
     "output_type": "execute_result"
    }
   ],
   "source": [
    "for k,v in override['skus']['0'].keys()"
   ]
  },
  {
   "cell_type": "code",
   "execution_count": 296,
   "metadata": {
    "collapsed": true
   },
   "outputs": [],
   "source": [
    "cats = {'cat1':['0','1','2','3'],'cat2':['4','5','6'],'cat3':['7','8','9']}"
   ]
  },
  {
   "cell_type": "code",
   "execution_count": 297,
   "metadata": {},
   "outputs": [
    {
     "data": {
      "text/plain": [
       "['0', '1', '2', '3']"
      ]
     },
     "execution_count": 297,
     "metadata": {},
     "output_type": "execute_result"
    }
   ],
   "source": [
    "cats['cat1']"
   ]
  },
  {
   "cell_type": "code",
   "execution_count": 317,
   "metadata": {},
   "outputs": [
    {
     "data": {
      "text/plain": [
       "{'columns': [Timestamp('2015-01-04 00:00:00', freq='W-SUN'),\n",
       "  Timestamp('2015-01-11 00:00:00', freq='W-SUN'),\n",
       "  Timestamp('2015-01-18 00:00:00', freq='W-SUN'),\n",
       "  Timestamp('2015-01-25 00:00:00', freq='W-SUN')],\n",
       " 'data': [[46, 93, 38, 52],\n",
       "  [19, 24, 20, 84],\n",
       "  [4, 99, 78, 12],\n",
       "  [36, 85, 45, 79],\n",
       "  [5, 23, 91, 20]],\n",
       " 'index': ['1', '2', '3', '4', '5']}"
      ]
     },
     "execution_count": 317,
     "metadata": {},
     "output_type": "execute_result"
    }
   ],
   "source": [
    "data.loc[wk_start:wk_end][skus].T.to_dict(orient='split')#.items()"
   ]
  },
  {
   "cell_type": "code",
   "execution_count": 318,
   "metadata": {},
   "outputs": [
    {
     "data": {
      "text/plain": [
       "[Timestamp('2015-01-04 00:00:00', freq='W-SUN'),\n",
       " Timestamp('2015-01-11 00:00:00', freq='W-SUN'),\n",
       " Timestamp('2015-01-18 00:00:00', freq='W-SUN'),\n",
       " Timestamp('2015-01-25 00:00:00', freq='W-SUN')]"
      ]
     },
     "execution_count": 318,
     "metadata": {},
     "output_type": "execute_result"
    }
   ],
   "source": [
    "data.loc[wk_start:wk_end][skus].T.to_dict(orient='split')['columns']"
   ]
  },
  {
   "cell_type": "code",
   "execution_count": 320,
   "metadata": {},
   "outputs": [
    {
     "data": {
      "text/plain": [
       "['1', '2', '3', '4', '5']"
      ]
     },
     "execution_count": 320,
     "metadata": {},
     "output_type": "execute_result"
    }
   ],
   "source": [
    "data.loc[wk_start:wk_end][skus].T.to_dict(orient='split')['index']"
   ]
  },
  {
   "cell_type": "code",
   "execution_count": 328,
   "metadata": {},
   "outputs": [
    {
     "name": "stdout",
     "output_type": "stream",
     "text": [
      "['1', '2', '3', '4', '5']\n",
      "[Timestamp('2015-01-04 00:00:00', freq='W-SUN'), Timestamp('2015-01-11 00:00:00', freq='W-SUN'), Timestamp('2015-01-18 00:00:00', freq='W-SUN'), Timestamp('2015-01-25 00:00:00', freq='W-SUN')]\n",
      "[[46, 93, 38, 52], [19, 24, 20, 84], [4, 99, 78, 12], [36, 85, 45, 79], [5, 23, 91, 20]]\n"
     ]
    }
   ],
   "source": [
    "for i,j in data.loc[wk_start:wk_end][skus].T.to_dict(orient='split').items():\n",
    "    print(j)"
   ]
  },
  {
   "cell_type": "code",
   "execution_count": 474,
   "metadata": {},
   "outputs": [
    {
     "ename": "TypeError",
     "evalue": "'>' not supported between instances of 'str' and 'datetime.date'",
     "output_type": "error",
     "traceback": [
      "\u001b[0;31m---------------------------------------------------------------------------\u001b[0m",
      "\u001b[0;31mKeyError\u001b[0m                                  Traceback (most recent call last)",
      "\u001b[0;32m/Users/xbno/anaconda/lib/python3.6/site-packages/pandas/core/indexes/base.py\u001b[0m in \u001b[0;36mget_loc\u001b[0;34m(self, key, method, tolerance)\u001b[0m\n\u001b[1;32m   2392\u001b[0m             \u001b[0;32mtry\u001b[0m\u001b[0;34m:\u001b[0m\u001b[0;34m\u001b[0m\u001b[0m\n\u001b[0;32m-> 2393\u001b[0;31m                 \u001b[0;32mreturn\u001b[0m \u001b[0mself\u001b[0m\u001b[0;34m.\u001b[0m\u001b[0m_engine\u001b[0m\u001b[0;34m.\u001b[0m\u001b[0mget_loc\u001b[0m\u001b[0;34m(\u001b[0m\u001b[0mkey\u001b[0m\u001b[0;34m)\u001b[0m\u001b[0;34m\u001b[0m\u001b[0m\n\u001b[0m\u001b[1;32m   2394\u001b[0m             \u001b[0;32mexcept\u001b[0m \u001b[0mKeyError\u001b[0m\u001b[0;34m:\u001b[0m\u001b[0;34m\u001b[0m\u001b[0m\n",
      "\u001b[0;32mpandas/_libs/index.pyx\u001b[0m in \u001b[0;36mpandas._libs.index.IndexEngine.get_loc (pandas/_libs/index.c:5239)\u001b[0;34m()\u001b[0m\n",
      "\u001b[0;32mpandas/_libs/index.pyx\u001b[0m in \u001b[0;36mpandas._libs.index.IndexEngine.get_loc (pandas/_libs/index.c:5085)\u001b[0;34m()\u001b[0m\n",
      "\u001b[0;32mpandas/_libs/hashtable_class_helper.pxi\u001b[0m in \u001b[0;36mpandas._libs.hashtable.PyObjectHashTable.get_item (pandas/_libs/hashtable.c:20405)\u001b[0;34m()\u001b[0m\n",
      "\u001b[0;32mpandas/_libs/hashtable_class_helper.pxi\u001b[0m in \u001b[0;36mpandas._libs.hashtable.PyObjectHashTable.get_item (pandas/_libs/hashtable.c:20359)\u001b[0;34m()\u001b[0m\n",
      "\u001b[0;31mKeyError\u001b[0m: datetime.date(2017, 7, 27)",
      "\nDuring handling of the above exception, another exception occurred:\n",
      "\u001b[0;31mKeyError\u001b[0m                                  Traceback (most recent call last)",
      "\u001b[0;32m/Users/xbno/anaconda/lib/python3.6/site-packages/pandas/core/indexes/base.py\u001b[0m in \u001b[0;36mget_slice_bound\u001b[0;34m(self, label, side, kind)\u001b[0m\n\u001b[1;32m   3431\u001b[0m         \u001b[0;32mtry\u001b[0m\u001b[0;34m:\u001b[0m\u001b[0;34m\u001b[0m\u001b[0m\n\u001b[0;32m-> 3432\u001b[0;31m             \u001b[0mslc\u001b[0m \u001b[0;34m=\u001b[0m \u001b[0mself\u001b[0m\u001b[0;34m.\u001b[0m\u001b[0m_get_loc_only_exact_matches\u001b[0m\u001b[0;34m(\u001b[0m\u001b[0mlabel\u001b[0m\u001b[0;34m)\u001b[0m\u001b[0;34m\u001b[0m\u001b[0m\n\u001b[0m\u001b[1;32m   3433\u001b[0m         \u001b[0;32mexcept\u001b[0m \u001b[0mKeyError\u001b[0m \u001b[0;32mas\u001b[0m \u001b[0merr\u001b[0m\u001b[0;34m:\u001b[0m\u001b[0;34m\u001b[0m\u001b[0m\n",
      "\u001b[0;32m/Users/xbno/anaconda/lib/python3.6/site-packages/pandas/core/indexes/base.py\u001b[0m in \u001b[0;36m_get_loc_only_exact_matches\u001b[0;34m(self, key)\u001b[0m\n\u001b[1;32m   3400\u001b[0m         \"\"\"\n\u001b[0;32m-> 3401\u001b[0;31m         \u001b[0;32mreturn\u001b[0m \u001b[0mself\u001b[0m\u001b[0;34m.\u001b[0m\u001b[0mget_loc\u001b[0m\u001b[0;34m(\u001b[0m\u001b[0mkey\u001b[0m\u001b[0;34m)\u001b[0m\u001b[0;34m\u001b[0m\u001b[0m\n\u001b[0m\u001b[1;32m   3402\u001b[0m \u001b[0;34m\u001b[0m\u001b[0m\n",
      "\u001b[0;32m/Users/xbno/anaconda/lib/python3.6/site-packages/pandas/core/indexes/base.py\u001b[0m in \u001b[0;36mget_loc\u001b[0;34m(self, key, method, tolerance)\u001b[0m\n\u001b[1;32m   2394\u001b[0m             \u001b[0;32mexcept\u001b[0m \u001b[0mKeyError\u001b[0m\u001b[0;34m:\u001b[0m\u001b[0;34m\u001b[0m\u001b[0m\n\u001b[0;32m-> 2395\u001b[0;31m                 \u001b[0;32mreturn\u001b[0m \u001b[0mself\u001b[0m\u001b[0;34m.\u001b[0m\u001b[0m_engine\u001b[0m\u001b[0;34m.\u001b[0m\u001b[0mget_loc\u001b[0m\u001b[0;34m(\u001b[0m\u001b[0mself\u001b[0m\u001b[0;34m.\u001b[0m\u001b[0m_maybe_cast_indexer\u001b[0m\u001b[0;34m(\u001b[0m\u001b[0mkey\u001b[0m\u001b[0;34m)\u001b[0m\u001b[0;34m)\u001b[0m\u001b[0;34m\u001b[0m\u001b[0m\n\u001b[0m\u001b[1;32m   2396\u001b[0m \u001b[0;34m\u001b[0m\u001b[0m\n",
      "\u001b[0;32mpandas/_libs/index.pyx\u001b[0m in \u001b[0;36mpandas._libs.index.IndexEngine.get_loc (pandas/_libs/index.c:5239)\u001b[0;34m()\u001b[0m\n",
      "\u001b[0;32mpandas/_libs/index.pyx\u001b[0m in \u001b[0;36mpandas._libs.index.IndexEngine.get_loc (pandas/_libs/index.c:5085)\u001b[0;34m()\u001b[0m\n",
      "\u001b[0;32mpandas/_libs/hashtable_class_helper.pxi\u001b[0m in \u001b[0;36mpandas._libs.hashtable.PyObjectHashTable.get_item (pandas/_libs/hashtable.c:20405)\u001b[0;34m()\u001b[0m\n",
      "\u001b[0;32mpandas/_libs/hashtable_class_helper.pxi\u001b[0m in \u001b[0;36mpandas._libs.hashtable.PyObjectHashTable.get_item (pandas/_libs/hashtable.c:20359)\u001b[0;34m()\u001b[0m\n",
      "\u001b[0;31mKeyError\u001b[0m: datetime.date(2017, 7, 27)",
      "\nDuring handling of the above exception, another exception occurred:\n",
      "\u001b[0;31mTypeError\u001b[0m                                 Traceback (most recent call last)",
      "\u001b[0;32m<ipython-input-474-0086b7a6cb94>\u001b[0m in \u001b[0;36m<module>\u001b[0;34m()\u001b[0m\n\u001b[0;32m----> 1\u001b[0;31m \u001b[0mdata\u001b[0m\u001b[0;34m.\u001b[0m\u001b[0mloc\u001b[0m\u001b[0;34m[\u001b[0m\u001b[0mwk_start\u001b[0m\u001b[0;34m:\u001b[0m\u001b[0mwk_end\u001b[0m\u001b[0;34m]\u001b[0m\u001b[0;34m[\u001b[0m\u001b[0mskus\u001b[0m\u001b[0;34m]\u001b[0m\u001b[0;34m\u001b[0m\u001b[0m\n\u001b[0m",
      "\u001b[0;32m/Users/xbno/anaconda/lib/python3.6/site-packages/pandas/core/indexing.py\u001b[0m in \u001b[0;36m__getitem__\u001b[0;34m(self, key)\u001b[0m\n\u001b[1;32m   1326\u001b[0m         \u001b[0;32melse\u001b[0m\u001b[0;34m:\u001b[0m\u001b[0;34m\u001b[0m\u001b[0m\n\u001b[1;32m   1327\u001b[0m             \u001b[0mkey\u001b[0m \u001b[0;34m=\u001b[0m \u001b[0mcom\u001b[0m\u001b[0;34m.\u001b[0m\u001b[0m_apply_if_callable\u001b[0m\u001b[0;34m(\u001b[0m\u001b[0mkey\u001b[0m\u001b[0;34m,\u001b[0m \u001b[0mself\u001b[0m\u001b[0;34m.\u001b[0m\u001b[0mobj\u001b[0m\u001b[0;34m)\u001b[0m\u001b[0;34m\u001b[0m\u001b[0m\n\u001b[0;32m-> 1328\u001b[0;31m             \u001b[0;32mreturn\u001b[0m \u001b[0mself\u001b[0m\u001b[0;34m.\u001b[0m\u001b[0m_getitem_axis\u001b[0m\u001b[0;34m(\u001b[0m\u001b[0mkey\u001b[0m\u001b[0;34m,\u001b[0m \u001b[0maxis\u001b[0m\u001b[0;34m=\u001b[0m\u001b[0;36m0\u001b[0m\u001b[0;34m)\u001b[0m\u001b[0;34m\u001b[0m\u001b[0m\n\u001b[0m\u001b[1;32m   1329\u001b[0m \u001b[0;34m\u001b[0m\u001b[0m\n\u001b[1;32m   1330\u001b[0m     \u001b[0;32mdef\u001b[0m \u001b[0m_is_scalar_access\u001b[0m\u001b[0;34m(\u001b[0m\u001b[0mself\u001b[0m\u001b[0;34m,\u001b[0m \u001b[0mkey\u001b[0m\u001b[0;34m)\u001b[0m\u001b[0;34m:\u001b[0m\u001b[0;34m\u001b[0m\u001b[0m\n",
      "\u001b[0;32m/Users/xbno/anaconda/lib/python3.6/site-packages/pandas/core/indexing.py\u001b[0m in \u001b[0;36m_getitem_axis\u001b[0;34m(self, key, axis)\u001b[0m\n\u001b[1;32m   1504\u001b[0m         \u001b[0;32mif\u001b[0m \u001b[0misinstance\u001b[0m\u001b[0;34m(\u001b[0m\u001b[0mkey\u001b[0m\u001b[0;34m,\u001b[0m \u001b[0mslice\u001b[0m\u001b[0;34m)\u001b[0m\u001b[0;34m:\u001b[0m\u001b[0;34m\u001b[0m\u001b[0m\n\u001b[1;32m   1505\u001b[0m             \u001b[0mself\u001b[0m\u001b[0;34m.\u001b[0m\u001b[0m_has_valid_type\u001b[0m\u001b[0;34m(\u001b[0m\u001b[0mkey\u001b[0m\u001b[0;34m,\u001b[0m \u001b[0maxis\u001b[0m\u001b[0;34m)\u001b[0m\u001b[0;34m\u001b[0m\u001b[0m\n\u001b[0;32m-> 1506\u001b[0;31m             \u001b[0;32mreturn\u001b[0m \u001b[0mself\u001b[0m\u001b[0;34m.\u001b[0m\u001b[0m_get_slice_axis\u001b[0m\u001b[0;34m(\u001b[0m\u001b[0mkey\u001b[0m\u001b[0;34m,\u001b[0m \u001b[0maxis\u001b[0m\u001b[0;34m=\u001b[0m\u001b[0maxis\u001b[0m\u001b[0;34m)\u001b[0m\u001b[0;34m\u001b[0m\u001b[0m\n\u001b[0m\u001b[1;32m   1507\u001b[0m         \u001b[0;32melif\u001b[0m \u001b[0mis_bool_indexer\u001b[0m\u001b[0;34m(\u001b[0m\u001b[0mkey\u001b[0m\u001b[0;34m)\u001b[0m\u001b[0;34m:\u001b[0m\u001b[0;34m\u001b[0m\u001b[0m\n\u001b[1;32m   1508\u001b[0m             \u001b[0;32mreturn\u001b[0m \u001b[0mself\u001b[0m\u001b[0;34m.\u001b[0m\u001b[0m_getbool_axis\u001b[0m\u001b[0;34m(\u001b[0m\u001b[0mkey\u001b[0m\u001b[0;34m,\u001b[0m \u001b[0maxis\u001b[0m\u001b[0;34m=\u001b[0m\u001b[0maxis\u001b[0m\u001b[0;34m)\u001b[0m\u001b[0;34m\u001b[0m\u001b[0m\n",
      "\u001b[0;32m/Users/xbno/anaconda/lib/python3.6/site-packages/pandas/core/indexing.py\u001b[0m in \u001b[0;36m_get_slice_axis\u001b[0;34m(self, slice_obj, axis)\u001b[0m\n\u001b[1;32m   1354\u001b[0m         \u001b[0mlabels\u001b[0m \u001b[0;34m=\u001b[0m \u001b[0mobj\u001b[0m\u001b[0;34m.\u001b[0m\u001b[0m_get_axis\u001b[0m\u001b[0;34m(\u001b[0m\u001b[0maxis\u001b[0m\u001b[0;34m)\u001b[0m\u001b[0;34m\u001b[0m\u001b[0m\n\u001b[1;32m   1355\u001b[0m         indexer = labels.slice_indexer(slice_obj.start, slice_obj.stop,\n\u001b[0;32m-> 1356\u001b[0;31m                                        slice_obj.step, kind=self.name)\n\u001b[0m\u001b[1;32m   1357\u001b[0m \u001b[0;34m\u001b[0m\u001b[0m\n\u001b[1;32m   1358\u001b[0m         \u001b[0;32mif\u001b[0m \u001b[0misinstance\u001b[0m\u001b[0;34m(\u001b[0m\u001b[0mindexer\u001b[0m\u001b[0;34m,\u001b[0m \u001b[0mslice\u001b[0m\u001b[0;34m)\u001b[0m\u001b[0;34m:\u001b[0m\u001b[0;34m\u001b[0m\u001b[0m\n",
      "\u001b[0;32m/Users/xbno/anaconda/lib/python3.6/site-packages/pandas/core/indexes/base.py\u001b[0m in \u001b[0;36mslice_indexer\u001b[0;34m(self, start, end, step, kind)\u001b[0m\n\u001b[1;32m   3299\u001b[0m         \"\"\"\n\u001b[1;32m   3300\u001b[0m         start_slice, end_slice = self.slice_locs(start, end, step=step,\n\u001b[0;32m-> 3301\u001b[0;31m                                                  kind=kind)\n\u001b[0m\u001b[1;32m   3302\u001b[0m \u001b[0;34m\u001b[0m\u001b[0m\n\u001b[1;32m   3303\u001b[0m         \u001b[0;31m# return a slice\u001b[0m\u001b[0;34m\u001b[0m\u001b[0;34m\u001b[0m\u001b[0m\n",
      "\u001b[0;32m/Users/xbno/anaconda/lib/python3.6/site-packages/pandas/core/indexes/base.py\u001b[0m in \u001b[0;36mslice_locs\u001b[0;34m(self, start, end, step, kind)\u001b[0m\n\u001b[1;32m   3487\u001b[0m         \u001b[0mstart_slice\u001b[0m \u001b[0;34m=\u001b[0m \u001b[0;32mNone\u001b[0m\u001b[0;34m\u001b[0m\u001b[0m\n\u001b[1;32m   3488\u001b[0m         \u001b[0;32mif\u001b[0m \u001b[0mstart\u001b[0m \u001b[0;32mis\u001b[0m \u001b[0;32mnot\u001b[0m \u001b[0;32mNone\u001b[0m\u001b[0;34m:\u001b[0m\u001b[0;34m\u001b[0m\u001b[0m\n\u001b[0;32m-> 3489\u001b[0;31m             \u001b[0mstart_slice\u001b[0m \u001b[0;34m=\u001b[0m \u001b[0mself\u001b[0m\u001b[0;34m.\u001b[0m\u001b[0mget_slice_bound\u001b[0m\u001b[0;34m(\u001b[0m\u001b[0mstart\u001b[0m\u001b[0;34m,\u001b[0m \u001b[0;34m'left'\u001b[0m\u001b[0;34m,\u001b[0m \u001b[0mkind\u001b[0m\u001b[0;34m)\u001b[0m\u001b[0;34m\u001b[0m\u001b[0m\n\u001b[0m\u001b[1;32m   3490\u001b[0m         \u001b[0;32mif\u001b[0m \u001b[0mstart_slice\u001b[0m \u001b[0;32mis\u001b[0m \u001b[0;32mNone\u001b[0m\u001b[0;34m:\u001b[0m\u001b[0;34m\u001b[0m\u001b[0m\n\u001b[1;32m   3491\u001b[0m             \u001b[0mstart_slice\u001b[0m \u001b[0;34m=\u001b[0m \u001b[0;36m0\u001b[0m\u001b[0;34m\u001b[0m\u001b[0m\n",
      "\u001b[0;32m/Users/xbno/anaconda/lib/python3.6/site-packages/pandas/core/indexes/base.py\u001b[0m in \u001b[0;36mget_slice_bound\u001b[0;34m(self, label, side, kind)\u001b[0m\n\u001b[1;32m   3433\u001b[0m         \u001b[0;32mexcept\u001b[0m \u001b[0mKeyError\u001b[0m \u001b[0;32mas\u001b[0m \u001b[0merr\u001b[0m\u001b[0;34m:\u001b[0m\u001b[0;34m\u001b[0m\u001b[0m\n\u001b[1;32m   3434\u001b[0m             \u001b[0;32mtry\u001b[0m\u001b[0;34m:\u001b[0m\u001b[0;34m\u001b[0m\u001b[0m\n\u001b[0;32m-> 3435\u001b[0;31m                 \u001b[0;32mreturn\u001b[0m \u001b[0mself\u001b[0m\u001b[0;34m.\u001b[0m\u001b[0m_searchsorted_monotonic\u001b[0m\u001b[0;34m(\u001b[0m\u001b[0mlabel\u001b[0m\u001b[0;34m,\u001b[0m \u001b[0mside\u001b[0m\u001b[0;34m)\u001b[0m\u001b[0;34m\u001b[0m\u001b[0m\n\u001b[0m\u001b[1;32m   3436\u001b[0m             \u001b[0;32mexcept\u001b[0m \u001b[0mValueError\u001b[0m\u001b[0;34m:\u001b[0m\u001b[0;34m\u001b[0m\u001b[0m\n\u001b[1;32m   3437\u001b[0m                 \u001b[0;31m# raise the original KeyError\u001b[0m\u001b[0;34m\u001b[0m\u001b[0;34m\u001b[0m\u001b[0m\n",
      "\u001b[0;32m/Users/xbno/anaconda/lib/python3.6/site-packages/pandas/core/indexes/base.py\u001b[0m in \u001b[0;36m_searchsorted_monotonic\u001b[0;34m(self, label, side)\u001b[0m\n\u001b[1;32m   3383\u001b[0m     \u001b[0;32mdef\u001b[0m \u001b[0m_searchsorted_monotonic\u001b[0m\u001b[0;34m(\u001b[0m\u001b[0mself\u001b[0m\u001b[0;34m,\u001b[0m \u001b[0mlabel\u001b[0m\u001b[0;34m,\u001b[0m \u001b[0mside\u001b[0m\u001b[0;34m=\u001b[0m\u001b[0;34m'left'\u001b[0m\u001b[0;34m)\u001b[0m\u001b[0;34m:\u001b[0m\u001b[0;34m\u001b[0m\u001b[0m\n\u001b[1;32m   3384\u001b[0m         \u001b[0;32mif\u001b[0m \u001b[0mself\u001b[0m\u001b[0;34m.\u001b[0m\u001b[0mis_monotonic_increasing\u001b[0m\u001b[0;34m:\u001b[0m\u001b[0;34m\u001b[0m\u001b[0m\n\u001b[0;32m-> 3385\u001b[0;31m             \u001b[0;32mreturn\u001b[0m \u001b[0mself\u001b[0m\u001b[0;34m.\u001b[0m\u001b[0msearchsorted\u001b[0m\u001b[0;34m(\u001b[0m\u001b[0mlabel\u001b[0m\u001b[0;34m,\u001b[0m \u001b[0mside\u001b[0m\u001b[0;34m=\u001b[0m\u001b[0mside\u001b[0m\u001b[0;34m)\u001b[0m\u001b[0;34m\u001b[0m\u001b[0m\n\u001b[0m\u001b[1;32m   3386\u001b[0m         \u001b[0;32melif\u001b[0m \u001b[0mself\u001b[0m\u001b[0;34m.\u001b[0m\u001b[0mis_monotonic_decreasing\u001b[0m\u001b[0;34m:\u001b[0m\u001b[0;34m\u001b[0m\u001b[0m\n\u001b[1;32m   3387\u001b[0m             \u001b[0;31m# np.searchsorted expects ascending sort order, have to reverse\u001b[0m\u001b[0;34m\u001b[0m\u001b[0;34m\u001b[0m\u001b[0m\n",
      "\u001b[0;32m/Users/xbno/anaconda/lib/python3.6/site-packages/pandas/util/_decorators.py\u001b[0m in \u001b[0;36mwrapper\u001b[0;34m(*args, **kwargs)\u001b[0m\n\u001b[1;32m     89\u001b[0m                 \u001b[0;32melse\u001b[0m\u001b[0;34m:\u001b[0m\u001b[0;34m\u001b[0m\u001b[0m\n\u001b[1;32m     90\u001b[0m                     \u001b[0mkwargs\u001b[0m\u001b[0;34m[\u001b[0m\u001b[0mnew_arg_name\u001b[0m\u001b[0;34m]\u001b[0m \u001b[0;34m=\u001b[0m \u001b[0mnew_arg_value\u001b[0m\u001b[0;34m\u001b[0m\u001b[0m\n\u001b[0;32m---> 91\u001b[0;31m             \u001b[0;32mreturn\u001b[0m \u001b[0mfunc\u001b[0m\u001b[0;34m(\u001b[0m\u001b[0;34m*\u001b[0m\u001b[0margs\u001b[0m\u001b[0;34m,\u001b[0m \u001b[0;34m**\u001b[0m\u001b[0mkwargs\u001b[0m\u001b[0;34m)\u001b[0m\u001b[0;34m\u001b[0m\u001b[0m\n\u001b[0m\u001b[1;32m     92\u001b[0m         \u001b[0;32mreturn\u001b[0m \u001b[0mwrapper\u001b[0m\u001b[0;34m\u001b[0m\u001b[0m\n\u001b[1;32m     93\u001b[0m     \u001b[0;32mreturn\u001b[0m \u001b[0m_deprecate_kwarg\u001b[0m\u001b[0;34m\u001b[0m\u001b[0m\n",
      "\u001b[0;32m/Users/xbno/anaconda/lib/python3.6/site-packages/pandas/core/base.py\u001b[0m in \u001b[0;36msearchsorted\u001b[0;34m(self, value, side, sorter)\u001b[0m\n\u001b[1;32m   1157\u001b[0m     \u001b[0;32mdef\u001b[0m \u001b[0msearchsorted\u001b[0m\u001b[0;34m(\u001b[0m\u001b[0mself\u001b[0m\u001b[0;34m,\u001b[0m \u001b[0mvalue\u001b[0m\u001b[0;34m,\u001b[0m \u001b[0mside\u001b[0m\u001b[0;34m=\u001b[0m\u001b[0;34m'left'\u001b[0m\u001b[0;34m,\u001b[0m \u001b[0msorter\u001b[0m\u001b[0;34m=\u001b[0m\u001b[0;32mNone\u001b[0m\u001b[0;34m)\u001b[0m\u001b[0;34m:\u001b[0m\u001b[0;34m\u001b[0m\u001b[0m\n\u001b[1;32m   1158\u001b[0m         \u001b[0;31m# needs coercion on the key (DatetimeIndex does already)\u001b[0m\u001b[0;34m\u001b[0m\u001b[0;34m\u001b[0m\u001b[0m\n\u001b[0;32m-> 1159\u001b[0;31m         \u001b[0;32mreturn\u001b[0m \u001b[0mself\u001b[0m\u001b[0;34m.\u001b[0m\u001b[0mvalues\u001b[0m\u001b[0;34m.\u001b[0m\u001b[0msearchsorted\u001b[0m\u001b[0;34m(\u001b[0m\u001b[0mvalue\u001b[0m\u001b[0;34m,\u001b[0m \u001b[0mside\u001b[0m\u001b[0;34m=\u001b[0m\u001b[0mside\u001b[0m\u001b[0;34m,\u001b[0m \u001b[0msorter\u001b[0m\u001b[0;34m=\u001b[0m\u001b[0msorter\u001b[0m\u001b[0;34m)\u001b[0m\u001b[0;34m\u001b[0m\u001b[0m\n\u001b[0m\u001b[1;32m   1160\u001b[0m \u001b[0;34m\u001b[0m\u001b[0m\n\u001b[1;32m   1161\u001b[0m     _shared_docs['drop_duplicates'] = (\n",
      "\u001b[0;31mTypeError\u001b[0m: '>' not supported between instances of 'str' and 'datetime.date'"
     ]
    }
   ],
   "source": [
    "data.loc[wk_start:wk_end][skus]"
   ]
  },
  {
   "cell_type": "code",
   "execution_count": 340,
   "metadata": {
    "collapsed": true
   },
   "outputs": [],
   "source": [
    "filter_df = data.loc[wk_start:wk_end][skus]"
   ]
  },
  {
   "cell_type": "code",
   "execution_count": 397,
   "metadata": {},
   "outputs": [
    {
     "ename": "InvalidIndexError",
     "evalue": "Reindexing only valid with uniquely valued Index objects",
     "output_type": "error",
     "traceback": [
      "\u001b[0;31m---------------------------------------------------------------------------\u001b[0m",
      "\u001b[0;31mInvalidIndexError\u001b[0m                         Traceback (most recent call last)",
      "\u001b[0;32m<ipython-input-397-2eb75e145783>\u001b[0m in \u001b[0;36m<module>\u001b[0;34m()\u001b[0m\n\u001b[1;32m      1\u001b[0m \u001b[0mwk_totals\u001b[0m \u001b[0;34m=\u001b[0m \u001b[0mdata\u001b[0m\u001b[0;34m.\u001b[0m\u001b[0mloc\u001b[0m\u001b[0;34m[\u001b[0m\u001b[0mwk_start\u001b[0m\u001b[0;34m:\u001b[0m\u001b[0mwk_end\u001b[0m\u001b[0;34m]\u001b[0m\u001b[0;34m[\u001b[0m\u001b[0mskus\u001b[0m\u001b[0;34m]\u001b[0m\u001b[0;34m.\u001b[0m\u001b[0msum\u001b[0m\u001b[0;34m(\u001b[0m\u001b[0maxis\u001b[0m\u001b[0;34m=\u001b[0m\u001b[0;36m1\u001b[0m\u001b[0;34m)\u001b[0m\u001b[0;34m\u001b[0m\u001b[0m\n\u001b[0;32m----> 2\u001b[0;31m \u001b[0mfilter_df\u001b[0m \u001b[0;34m=\u001b[0m \u001b[0mpd\u001b[0m\u001b[0;34m.\u001b[0m\u001b[0mconcat\u001b[0m\u001b[0;34m(\u001b[0m\u001b[0;34m[\u001b[0m\u001b[0mfilter_df\u001b[0m\u001b[0;34m,\u001b[0m\u001b[0mwk_totals\u001b[0m\u001b[0;34m.\u001b[0m\u001b[0mrename\u001b[0m\u001b[0;34m(\u001b[0m\u001b[0;34m'Total'\u001b[0m\u001b[0;34m)\u001b[0m\u001b[0;34m]\u001b[0m\u001b[0;34m,\u001b[0m\u001b[0maxis\u001b[0m\u001b[0;34m=\u001b[0m\u001b[0;36m1\u001b[0m\u001b[0;34m)\u001b[0m\u001b[0;34m\u001b[0m\u001b[0m\n\u001b[0m\u001b[1;32m      3\u001b[0m \u001b[0mfilter_df\u001b[0m \u001b[0;34m=\u001b[0m \u001b[0mfilter_df\u001b[0m\u001b[0;34m.\u001b[0m\u001b[0mappend\u001b[0m\u001b[0;34m(\u001b[0m\u001b[0mfilter_df\u001b[0m\u001b[0;34m.\u001b[0m\u001b[0msum\u001b[0m\u001b[0;34m(\u001b[0m\u001b[0mnumeric_only\u001b[0m\u001b[0;34m=\u001b[0m\u001b[0;32mTrue\u001b[0m\u001b[0;34m)\u001b[0m\u001b[0;34m.\u001b[0m\u001b[0mrename\u001b[0m\u001b[0;34m(\u001b[0m\u001b[0;34m'Total'\u001b[0m\u001b[0;34m)\u001b[0m\u001b[0;34m)\u001b[0m\u001b[0;34m\u001b[0m\u001b[0m\n",
      "\u001b[0;32m/Users/xbno/anaconda/lib/python3.6/site-packages/pandas/core/reshape/concat.py\u001b[0m in \u001b[0;36mconcat\u001b[0;34m(objs, axis, join, join_axes, ignore_index, keys, levels, names, verify_integrity, copy)\u001b[0m\n\u001b[1;32m    204\u001b[0m                        \u001b[0mkeys\u001b[0m\u001b[0;34m=\u001b[0m\u001b[0mkeys\u001b[0m\u001b[0;34m,\u001b[0m \u001b[0mlevels\u001b[0m\u001b[0;34m=\u001b[0m\u001b[0mlevels\u001b[0m\u001b[0;34m,\u001b[0m \u001b[0mnames\u001b[0m\u001b[0;34m=\u001b[0m\u001b[0mnames\u001b[0m\u001b[0;34m,\u001b[0m\u001b[0;34m\u001b[0m\u001b[0m\n\u001b[1;32m    205\u001b[0m                        \u001b[0mverify_integrity\u001b[0m\u001b[0;34m=\u001b[0m\u001b[0mverify_integrity\u001b[0m\u001b[0;34m,\u001b[0m\u001b[0;34m\u001b[0m\u001b[0m\n\u001b[0;32m--> 206\u001b[0;31m                        copy=copy)\n\u001b[0m\u001b[1;32m    207\u001b[0m     \u001b[0;32mreturn\u001b[0m \u001b[0mop\u001b[0m\u001b[0;34m.\u001b[0m\u001b[0mget_result\u001b[0m\u001b[0;34m(\u001b[0m\u001b[0;34m)\u001b[0m\u001b[0;34m\u001b[0m\u001b[0m\n\u001b[1;32m    208\u001b[0m \u001b[0;34m\u001b[0m\u001b[0m\n",
      "\u001b[0;32m/Users/xbno/anaconda/lib/python3.6/site-packages/pandas/core/reshape/concat.py\u001b[0m in \u001b[0;36m__init__\u001b[0;34m(self, objs, axis, join, join_axes, keys, levels, names, ignore_index, verify_integrity, copy)\u001b[0m\n\u001b[1;32m    352\u001b[0m         \u001b[0mself\u001b[0m\u001b[0;34m.\u001b[0m\u001b[0mcopy\u001b[0m \u001b[0;34m=\u001b[0m \u001b[0mcopy\u001b[0m\u001b[0;34m\u001b[0m\u001b[0m\n\u001b[1;32m    353\u001b[0m \u001b[0;34m\u001b[0m\u001b[0m\n\u001b[0;32m--> 354\u001b[0;31m         \u001b[0mself\u001b[0m\u001b[0;34m.\u001b[0m\u001b[0mnew_axes\u001b[0m \u001b[0;34m=\u001b[0m \u001b[0mself\u001b[0m\u001b[0;34m.\u001b[0m\u001b[0m_get_new_axes\u001b[0m\u001b[0;34m(\u001b[0m\u001b[0;34m)\u001b[0m\u001b[0;34m\u001b[0m\u001b[0m\n\u001b[0m\u001b[1;32m    355\u001b[0m \u001b[0;34m\u001b[0m\u001b[0m\n\u001b[1;32m    356\u001b[0m     \u001b[0;32mdef\u001b[0m \u001b[0mget_result\u001b[0m\u001b[0;34m(\u001b[0m\u001b[0mself\u001b[0m\u001b[0;34m)\u001b[0m\u001b[0;34m:\u001b[0m\u001b[0;34m\u001b[0m\u001b[0m\n",
      "\u001b[0;32m/Users/xbno/anaconda/lib/python3.6/site-packages/pandas/core/reshape/concat.py\u001b[0m in \u001b[0;36m_get_new_axes\u001b[0;34m(self)\u001b[0m\n\u001b[1;32m    427\u001b[0m                 \u001b[0;32mif\u001b[0m \u001b[0mi\u001b[0m \u001b[0;34m==\u001b[0m \u001b[0mself\u001b[0m\u001b[0;34m.\u001b[0m\u001b[0maxis\u001b[0m\u001b[0;34m:\u001b[0m\u001b[0;34m\u001b[0m\u001b[0m\n\u001b[1;32m    428\u001b[0m                     \u001b[0;32mcontinue\u001b[0m\u001b[0;34m\u001b[0m\u001b[0m\n\u001b[0;32m--> 429\u001b[0;31m                 \u001b[0mnew_axes\u001b[0m\u001b[0;34m[\u001b[0m\u001b[0mi\u001b[0m\u001b[0;34m]\u001b[0m \u001b[0;34m=\u001b[0m \u001b[0mself\u001b[0m\u001b[0;34m.\u001b[0m\u001b[0m_get_comb_axis\u001b[0m\u001b[0;34m(\u001b[0m\u001b[0mi\u001b[0m\u001b[0;34m)\u001b[0m\u001b[0;34m\u001b[0m\u001b[0m\n\u001b[0m\u001b[1;32m    430\u001b[0m         \u001b[0;32melse\u001b[0m\u001b[0;34m:\u001b[0m\u001b[0;34m\u001b[0m\u001b[0m\n\u001b[1;32m    431\u001b[0m             \u001b[0;32mif\u001b[0m \u001b[0mlen\u001b[0m\u001b[0;34m(\u001b[0m\u001b[0mself\u001b[0m\u001b[0;34m.\u001b[0m\u001b[0mjoin_axes\u001b[0m\u001b[0;34m)\u001b[0m \u001b[0;34m!=\u001b[0m \u001b[0mndim\u001b[0m \u001b[0;34m-\u001b[0m \u001b[0;36m1\u001b[0m\u001b[0;34m:\u001b[0m\u001b[0;34m\u001b[0m\u001b[0m\n",
      "\u001b[0;32m/Users/xbno/anaconda/lib/python3.6/site-packages/pandas/core/reshape/concat.py\u001b[0m in \u001b[0;36m_get_comb_axis\u001b[0;34m(self, i)\u001b[0m\n\u001b[1;32m    453\u001b[0m                 \u001b[0;32mraise\u001b[0m \u001b[0mTypeError\u001b[0m\u001b[0;34m(\u001b[0m\u001b[0;34m\"Cannot concatenate list of %s\"\u001b[0m \u001b[0;34m%\u001b[0m \u001b[0mtypes\u001b[0m\u001b[0;34m)\u001b[0m\u001b[0;34m\u001b[0m\u001b[0m\n\u001b[1;32m    454\u001b[0m \u001b[0;34m\u001b[0m\u001b[0m\n\u001b[0;32m--> 455\u001b[0;31m         \u001b[0;32mreturn\u001b[0m \u001b[0m_get_combined_index\u001b[0m\u001b[0;34m(\u001b[0m\u001b[0mall_indexes\u001b[0m\u001b[0;34m,\u001b[0m \u001b[0mintersect\u001b[0m\u001b[0;34m=\u001b[0m\u001b[0mself\u001b[0m\u001b[0;34m.\u001b[0m\u001b[0mintersect\u001b[0m\u001b[0;34m)\u001b[0m\u001b[0;34m\u001b[0m\u001b[0m\n\u001b[0m\u001b[1;32m    456\u001b[0m \u001b[0;34m\u001b[0m\u001b[0m\n\u001b[1;32m    457\u001b[0m     \u001b[0;32mdef\u001b[0m \u001b[0m_get_concat_axis\u001b[0m\u001b[0;34m(\u001b[0m\u001b[0mself\u001b[0m\u001b[0;34m)\u001b[0m\u001b[0;34m:\u001b[0m\u001b[0;34m\u001b[0m\u001b[0m\n",
      "\u001b[0;32m/Users/xbno/anaconda/lib/python3.6/site-packages/pandas/core/indexes/api.py\u001b[0m in \u001b[0;36m_get_combined_index\u001b[0;34m(indexes, intersect)\u001b[0m\n\u001b[1;32m     41\u001b[0m             \u001b[0mindex\u001b[0m \u001b[0;34m=\u001b[0m \u001b[0mindex\u001b[0m\u001b[0;34m.\u001b[0m\u001b[0mintersection\u001b[0m\u001b[0;34m(\u001b[0m\u001b[0mother\u001b[0m\u001b[0;34m)\u001b[0m\u001b[0;34m\u001b[0m\u001b[0m\n\u001b[1;32m     42\u001b[0m         \u001b[0;32mreturn\u001b[0m \u001b[0mindex\u001b[0m\u001b[0;34m\u001b[0m\u001b[0m\n\u001b[0;32m---> 43\u001b[0;31m     \u001b[0munion\u001b[0m \u001b[0;34m=\u001b[0m \u001b[0m_union_indexes\u001b[0m\u001b[0;34m(\u001b[0m\u001b[0mindexes\u001b[0m\u001b[0;34m)\u001b[0m\u001b[0;34m\u001b[0m\u001b[0m\n\u001b[0m\u001b[1;32m     44\u001b[0m     \u001b[0;32mreturn\u001b[0m \u001b[0m_ensure_index\u001b[0m\u001b[0;34m(\u001b[0m\u001b[0munion\u001b[0m\u001b[0;34m)\u001b[0m\u001b[0;34m\u001b[0m\u001b[0m\n\u001b[1;32m     45\u001b[0m \u001b[0;34m\u001b[0m\u001b[0m\n",
      "\u001b[0;32m/Users/xbno/anaconda/lib/python3.6/site-packages/pandas/core/indexes/api.py\u001b[0m in \u001b[0;36m_union_indexes\u001b[0;34m(indexes)\u001b[0m\n\u001b[1;32m     75\u001b[0m         \u001b[0;32melse\u001b[0m\u001b[0;34m:\u001b[0m\u001b[0;34m\u001b[0m\u001b[0m\n\u001b[1;32m     76\u001b[0m             \u001b[0;32mfor\u001b[0m \u001b[0mother\u001b[0m \u001b[0;32min\u001b[0m \u001b[0mindexes\u001b[0m\u001b[0;34m[\u001b[0m\u001b[0;36m1\u001b[0m\u001b[0;34m:\u001b[0m\u001b[0;34m]\u001b[0m\u001b[0;34m:\u001b[0m\u001b[0;34m\u001b[0m\u001b[0m\n\u001b[0;32m---> 77\u001b[0;31m                 \u001b[0mresult\u001b[0m \u001b[0;34m=\u001b[0m \u001b[0mresult\u001b[0m\u001b[0;34m.\u001b[0m\u001b[0munion\u001b[0m\u001b[0;34m(\u001b[0m\u001b[0mother\u001b[0m\u001b[0;34m)\u001b[0m\u001b[0;34m\u001b[0m\u001b[0m\n\u001b[0m\u001b[1;32m     78\u001b[0m             \u001b[0;32mreturn\u001b[0m \u001b[0mresult\u001b[0m\u001b[0;34m\u001b[0m\u001b[0m\n\u001b[1;32m     79\u001b[0m     \u001b[0;32melif\u001b[0m \u001b[0mkind\u001b[0m \u001b[0;34m==\u001b[0m \u001b[0;34m'array'\u001b[0m\u001b[0;34m:\u001b[0m\u001b[0;34m\u001b[0m\u001b[0m\n",
      "\u001b[0;32m/Users/xbno/anaconda/lib/python3.6/site-packages/pandas/core/indexes/base.py\u001b[0m in \u001b[0;36munion\u001b[0;34m(self, other)\u001b[0m\n\u001b[1;32m   2110\u001b[0m             \u001b[0mthis\u001b[0m \u001b[0;34m=\u001b[0m \u001b[0mself\u001b[0m\u001b[0;34m.\u001b[0m\u001b[0mastype\u001b[0m\u001b[0;34m(\u001b[0m\u001b[0;34m'O'\u001b[0m\u001b[0;34m)\u001b[0m\u001b[0;34m\u001b[0m\u001b[0m\n\u001b[1;32m   2111\u001b[0m             \u001b[0mother\u001b[0m \u001b[0;34m=\u001b[0m \u001b[0mother\u001b[0m\u001b[0;34m.\u001b[0m\u001b[0mastype\u001b[0m\u001b[0;34m(\u001b[0m\u001b[0;34m'O'\u001b[0m\u001b[0;34m)\u001b[0m\u001b[0;34m\u001b[0m\u001b[0m\n\u001b[0;32m-> 2112\u001b[0;31m             \u001b[0;32mreturn\u001b[0m \u001b[0mthis\u001b[0m\u001b[0;34m.\u001b[0m\u001b[0munion\u001b[0m\u001b[0;34m(\u001b[0m\u001b[0mother\u001b[0m\u001b[0;34m)\u001b[0m\u001b[0;34m\u001b[0m\u001b[0m\n\u001b[0m\u001b[1;32m   2113\u001b[0m \u001b[0;34m\u001b[0m\u001b[0m\n\u001b[1;32m   2114\u001b[0m         \u001b[0;32mif\u001b[0m \u001b[0mself\u001b[0m\u001b[0;34m.\u001b[0m\u001b[0mis_monotonic\u001b[0m \u001b[0;32mand\u001b[0m \u001b[0mother\u001b[0m\u001b[0;34m.\u001b[0m\u001b[0mis_monotonic\u001b[0m\u001b[0;34m:\u001b[0m\u001b[0;34m\u001b[0m\u001b[0m\n",
      "\u001b[0;32m/Users/xbno/anaconda/lib/python3.6/site-packages/pandas/core/indexes/base.py\u001b[0m in \u001b[0;36munion\u001b[0;34m(self, other)\u001b[0m\n\u001b[1;32m   2123\u001b[0m                 \u001b[0mresult\u001b[0m\u001b[0;34m.\u001b[0m\u001b[0mextend\u001b[0m\u001b[0;34m(\u001b[0m\u001b[0;34m[\u001b[0m\u001b[0mx\u001b[0m \u001b[0;32mfor\u001b[0m \u001b[0mx\u001b[0m \u001b[0;32min\u001b[0m \u001b[0mother\u001b[0m\u001b[0;34m.\u001b[0m\u001b[0m_values\u001b[0m \u001b[0;32mif\u001b[0m \u001b[0mx\u001b[0m \u001b[0;32mnot\u001b[0m \u001b[0;32min\u001b[0m \u001b[0mvalue_set\u001b[0m\u001b[0;34m]\u001b[0m\u001b[0;34m)\u001b[0m\u001b[0;34m\u001b[0m\u001b[0m\n\u001b[1;32m   2124\u001b[0m         \u001b[0;32melse\u001b[0m\u001b[0;34m:\u001b[0m\u001b[0;34m\u001b[0m\u001b[0m\n\u001b[0;32m-> 2125\u001b[0;31m             \u001b[0mindexer\u001b[0m \u001b[0;34m=\u001b[0m \u001b[0mself\u001b[0m\u001b[0;34m.\u001b[0m\u001b[0mget_indexer\u001b[0m\u001b[0;34m(\u001b[0m\u001b[0mother\u001b[0m\u001b[0;34m)\u001b[0m\u001b[0;34m\u001b[0m\u001b[0m\n\u001b[0m\u001b[1;32m   2126\u001b[0m             \u001b[0mindexer\u001b[0m\u001b[0;34m,\u001b[0m \u001b[0;34m=\u001b[0m \u001b[0;34m(\u001b[0m\u001b[0mindexer\u001b[0m \u001b[0;34m==\u001b[0m \u001b[0;34m-\u001b[0m\u001b[0;36m1\u001b[0m\u001b[0;34m)\u001b[0m\u001b[0;34m.\u001b[0m\u001b[0mnonzero\u001b[0m\u001b[0;34m(\u001b[0m\u001b[0;34m)\u001b[0m\u001b[0;34m\u001b[0m\u001b[0m\n\u001b[1;32m   2127\u001b[0m \u001b[0;34m\u001b[0m\u001b[0m\n",
      "\u001b[0;32m/Users/xbno/anaconda/lib/python3.6/site-packages/pandas/core/indexes/base.py\u001b[0m in \u001b[0;36mget_indexer\u001b[0;34m(self, target, method, limit, tolerance)\u001b[0m\n\u001b[1;32m   2532\u001b[0m \u001b[0;34m\u001b[0m\u001b[0m\n\u001b[1;32m   2533\u001b[0m         \u001b[0;32mif\u001b[0m \u001b[0;32mnot\u001b[0m \u001b[0mself\u001b[0m\u001b[0;34m.\u001b[0m\u001b[0mis_unique\u001b[0m\u001b[0;34m:\u001b[0m\u001b[0;34m\u001b[0m\u001b[0m\n\u001b[0;32m-> 2534\u001b[0;31m             raise InvalidIndexError('Reindexing only valid with uniquely'\n\u001b[0m\u001b[1;32m   2535\u001b[0m                                     ' valued Index objects')\n\u001b[1;32m   2536\u001b[0m \u001b[0;34m\u001b[0m\u001b[0m\n",
      "\u001b[0;31mInvalidIndexError\u001b[0m: Reindexing only valid with uniquely valued Index objects"
     ]
    }
   ],
   "source": [
    "wk_totals = data.loc[wk_start:wk_end][skus].sum(axis=1)\n",
    "filter_df = pd.concat([filter_df,wk_totals.rename('Total')],axis=1)\n",
    "filter_df = filter_df.append(filter_df.sum(numeric_only=True).rename('Total'))"
   ]
  },
  {
   "cell_type": "code",
   "execution_count": 394,
   "metadata": {},
   "outputs": [
    {
     "data": {
      "text/html": [
       "<div>\n",
       "<style>\n",
       "    .dataframe thead tr:only-child th {\n",
       "        text-align: right;\n",
       "    }\n",
       "\n",
       "    .dataframe thead th {\n",
       "        text-align: left;\n",
       "    }\n",
       "\n",
       "    .dataframe tbody tr th {\n",
       "        vertical-align: top;\n",
       "    }\n",
       "</style>\n",
       "<table border=\"1\" class=\"dataframe\">\n",
       "  <thead>\n",
       "    <tr style=\"text-align: right;\">\n",
       "      <th></th>\n",
       "      <th>1</th>\n",
       "      <th>2</th>\n",
       "      <th>3</th>\n",
       "      <th>4</th>\n",
       "      <th>5</th>\n",
       "      <th>Total</th>\n",
       "    </tr>\n",
       "  </thead>\n",
       "  <tbody>\n",
       "    <tr>\n",
       "      <th>2015-01-04 00:00:00</th>\n",
       "      <td>46</td>\n",
       "      <td>19</td>\n",
       "      <td>4</td>\n",
       "      <td>36</td>\n",
       "      <td>5</td>\n",
       "      <td>110</td>\n",
       "    </tr>\n",
       "    <tr>\n",
       "      <th>2015-01-11 00:00:00</th>\n",
       "      <td>93</td>\n",
       "      <td>24</td>\n",
       "      <td>99</td>\n",
       "      <td>85</td>\n",
       "      <td>23</td>\n",
       "      <td>324</td>\n",
       "    </tr>\n",
       "    <tr>\n",
       "      <th>2015-01-18 00:00:00</th>\n",
       "      <td>38</td>\n",
       "      <td>20</td>\n",
       "      <td>78</td>\n",
       "      <td>45</td>\n",
       "      <td>91</td>\n",
       "      <td>272</td>\n",
       "    </tr>\n",
       "    <tr>\n",
       "      <th>2015-01-25 00:00:00</th>\n",
       "      <td>52</td>\n",
       "      <td>84</td>\n",
       "      <td>12</td>\n",
       "      <td>79</td>\n",
       "      <td>20</td>\n",
       "      <td>247</td>\n",
       "    </tr>\n",
       "    <tr>\n",
       "      <th>Total</th>\n",
       "      <td>229</td>\n",
       "      <td>147</td>\n",
       "      <td>193</td>\n",
       "      <td>245</td>\n",
       "      <td>139</td>\n",
       "      <td>953</td>\n",
       "    </tr>\n",
       "  </tbody>\n",
       "</table>\n",
       "</div>"
      ],
      "text/plain": [
       "                       1    2    3    4    5  Total\n",
       "2015-01-04 00:00:00   46   19    4   36    5    110\n",
       "2015-01-11 00:00:00   93   24   99   85   23    324\n",
       "2015-01-18 00:00:00   38   20   78   45   91    272\n",
       "2015-01-25 00:00:00   52   84   12   79   20    247\n",
       "Total                229  147  193  245  139    953"
      ]
     },
     "execution_count": 394,
     "metadata": {},
     "output_type": "execute_result"
    }
   ],
   "source": [
    "filter_df"
   ]
  },
  {
   "cell_type": "code",
   "execution_count": 393,
   "metadata": {},
   "outputs": [
    {
     "data": {
      "text/plain": [
       "dict_items([('index', ['1', '2', '3', '4', '5', 'Total']), ('columns', [Timestamp('2015-01-04 00:00:00', freq='W-SUN'), Timestamp('2015-01-11 00:00:00', freq='W-SUN'), Timestamp('2015-01-18 00:00:00', freq='W-SUN'), Timestamp('2015-01-25 00:00:00', freq='W-SUN'), 'Total']), ('data', [[46, 93, 38, 52, 229], [19, 24, 20, 84, 147], [4, 99, 78, 12, 193], [36, 85, 45, 79, 245], [5, 23, 91, 20, 139], [110, 324, 272, 247, 953]])])"
      ]
     },
     "execution_count": 393,
     "metadata": {},
     "output_type": "execute_result"
    }
   ],
   "source": [
    "filter_df.T.to_dict(orient='split').items()"
   ]
  },
  {
   "cell_type": "code",
   "execution_count": 429,
   "metadata": {},
   "outputs": [
    {
     "data": {
      "text/plain": [
       "DatetimeIndex(['2017-07-23', '2017-07-30', '2017-08-06', '2017-08-13',\n",
       "               '2017-08-20', '2017-08-27', '2017-09-03', '2017-09-10',\n",
       "               '2017-09-17', '2017-09-24', '2017-10-01', '2017-10-08',\n",
       "               '2017-10-15'],\n",
       "              dtype='datetime64[ns]', freq='W-SUN')"
      ]
     },
     "execution_count": 429,
     "metadata": {},
     "output_type": "execute_result"
    }
   ],
   "source": [
    "dates"
   ]
  },
  {
   "cell_type": "code",
   "execution_count": 413,
   "metadata": {
    "collapsed": true
   },
   "outputs": [],
   "source": [
    "import datetime as dt"
   ]
  },
  {
   "cell_type": "code",
   "execution_count": 414,
   "metadata": {
    "collapsed": true
   },
   "outputs": [],
   "source": [
    "date = dt.date.today()"
   ]
  },
  {
   "cell_type": "code",
   "execution_count": 425,
   "metadata": {
    "collapsed": true
   },
   "outputs": [],
   "source": [
    "from datetime import datetime, timedelta\n",
    "\n",
    "wk_start = (datetime.today() - timedelta(days=21)).date()\n",
    "wk_end = (datetime.today() + timedelta(days=63)).date()"
   ]
  },
  {
   "cell_type": "code",
   "execution_count": 426,
   "metadata": {},
   "outputs": [
    {
     "data": {
      "text/plain": [
       "datetime.date(2017, 10, 19)"
      ]
     },
     "execution_count": 426,
     "metadata": {},
     "output_type": "execute_result"
    }
   ],
   "source": [
    "wk_end"
   ]
  },
  {
   "cell_type": "code",
   "execution_count": 460,
   "metadata": {
    "collapsed": true
   },
   "outputs": [],
   "source": [
    "dates = pd.date_range('2017-07-23',periods=50, freq='W')\n",
    "data = pd.DataFrame(np.random.randint(100, size=(len(dates), 10)))\n",
    "data.set_index(dates, inplace=True)\n",
    "new_cols = []\n",
    "for i in data.columns:\n",
    "    new_cols.append(str(i))\n",
    "data.columns = new_cols"
   ]
  },
  {
   "cell_type": "code",
   "execution_count": 461,
   "metadata": {
    "collapsed": true
   },
   "outputs": [],
   "source": [
    "data.to_csv('data.csv')"
   ]
  },
  {
   "cell_type": "code",
   "execution_count": 462,
   "metadata": {
    "collapsed": true
   },
   "outputs": [],
   "source": [
    "data = pd.read_csv('data.csv',index_col=0)"
   ]
  },
  {
   "cell_type": "code",
   "execution_count": 471,
   "metadata": {},
   "outputs": [
    {
     "data": {
      "text/plain": [
       "{'columns': ['2017-07-23',\n",
       "  '2017-07-30',\n",
       "  '2017-08-06',\n",
       "  '2017-08-13',\n",
       "  '2017-08-20',\n",
       "  '2017-08-27',\n",
       "  '2017-09-03',\n",
       "  '2017-09-10',\n",
       "  '2017-09-17',\n",
       "  '2017-09-24',\n",
       "  '2017-10-01',\n",
       "  '2017-10-08',\n",
       "  '2017-10-15',\n",
       "  '2017-10-22',\n",
       "  '2017-10-29',\n",
       "  '2017-11-05',\n",
       "  '2017-11-12',\n",
       "  '2017-11-19',\n",
       "  '2017-11-26',\n",
       "  '2017-12-03',\n",
       "  '2017-12-10',\n",
       "  '2017-12-17',\n",
       "  '2017-12-24',\n",
       "  '2017-12-31',\n",
       "  '2018-01-07',\n",
       "  '2018-01-14',\n",
       "  '2018-01-21',\n",
       "  '2018-01-28',\n",
       "  '2018-02-04',\n",
       "  '2018-02-11',\n",
       "  '2018-02-18',\n",
       "  '2018-02-25',\n",
       "  '2018-03-04',\n",
       "  '2018-03-11',\n",
       "  '2018-03-18',\n",
       "  '2018-03-25',\n",
       "  '2018-04-01',\n",
       "  '2018-04-08',\n",
       "  '2018-04-15',\n",
       "  '2018-04-22',\n",
       "  '2018-04-29',\n",
       "  '2018-05-06',\n",
       "  '2018-05-13',\n",
       "  '2018-05-20',\n",
       "  '2018-05-27',\n",
       "  '2018-06-03',\n",
       "  '2018-06-10',\n",
       "  '2018-06-17',\n",
       "  '2018-06-24',\n",
       "  '2018-07-01'],\n",
       " 'data': [[54,\n",
       "   54,\n",
       "   72,\n",
       "   71,\n",
       "   85,\n",
       "   98,\n",
       "   70,\n",
       "   91,\n",
       "   35,\n",
       "   60,\n",
       "   18,\n",
       "   25,\n",
       "   57,\n",
       "   64,\n",
       "   68,\n",
       "   21,\n",
       "   33,\n",
       "   89,\n",
       "   78,\n",
       "   44,\n",
       "   81,\n",
       "   13,\n",
       "   87,\n",
       "   67,\n",
       "   18,\n",
       "   77,\n",
       "   14,\n",
       "   60,\n",
       "   99,\n",
       "   65,\n",
       "   58,\n",
       "   22,\n",
       "   50,\n",
       "   66,\n",
       "   34,\n",
       "   63,\n",
       "   34,\n",
       "   3,\n",
       "   19,\n",
       "   12,\n",
       "   42,\n",
       "   22,\n",
       "   18,\n",
       "   1,\n",
       "   76,\n",
       "   74,\n",
       "   87,\n",
       "   15,\n",
       "   93,\n",
       "   14],\n",
       "  [1,\n",
       "   45,\n",
       "   96,\n",
       "   62,\n",
       "   78,\n",
       "   2,\n",
       "   86,\n",
       "   58,\n",
       "   91,\n",
       "   23,\n",
       "   4,\n",
       "   32,\n",
       "   30,\n",
       "   43,\n",
       "   0,\n",
       "   84,\n",
       "   92,\n",
       "   83,\n",
       "   98,\n",
       "   10,\n",
       "   40,\n",
       "   57,\n",
       "   35,\n",
       "   31,\n",
       "   10,\n",
       "   22,\n",
       "   92,\n",
       "   21,\n",
       "   98,\n",
       "   42,\n",
       "   93,\n",
       "   7,\n",
       "   74,\n",
       "   53,\n",
       "   28,\n",
       "   51,\n",
       "   13,\n",
       "   48,\n",
       "   52,\n",
       "   36,\n",
       "   10,\n",
       "   59,\n",
       "   60,\n",
       "   99,\n",
       "   48,\n",
       "   5,\n",
       "   28,\n",
       "   38,\n",
       "   54,\n",
       "   49],\n",
       "  [57,\n",
       "   93,\n",
       "   71,\n",
       "   67,\n",
       "   94,\n",
       "   50,\n",
       "   53,\n",
       "   80,\n",
       "   48,\n",
       "   32,\n",
       "   2,\n",
       "   76,\n",
       "   88,\n",
       "   63,\n",
       "   35,\n",
       "   33,\n",
       "   38,\n",
       "   18,\n",
       "   40,\n",
       "   95,\n",
       "   20,\n",
       "   96,\n",
       "   59,\n",
       "   88,\n",
       "   1,\n",
       "   50,\n",
       "   80,\n",
       "   7,\n",
       "   25,\n",
       "   50,\n",
       "   75,\n",
       "   98,\n",
       "   68,\n",
       "   30,\n",
       "   63,\n",
       "   88,\n",
       "   76,\n",
       "   48,\n",
       "   60,\n",
       "   71,\n",
       "   91,\n",
       "   92,\n",
       "   2,\n",
       "   33,\n",
       "   45,\n",
       "   1,\n",
       "   78,\n",
       "   44,\n",
       "   72,\n",
       "   8],\n",
       "  [73,\n",
       "   97,\n",
       "   88,\n",
       "   96,\n",
       "   59,\n",
       "   2,\n",
       "   64,\n",
       "   24,\n",
       "   77,\n",
       "   40,\n",
       "   85,\n",
       "   40,\n",
       "   14,\n",
       "   28,\n",
       "   91,\n",
       "   19,\n",
       "   46,\n",
       "   84,\n",
       "   46,\n",
       "   28,\n",
       "   43,\n",
       "   11,\n",
       "   15,\n",
       "   70,\n",
       "   53,\n",
       "   72,\n",
       "   43,\n",
       "   46,\n",
       "   31,\n",
       "   81,\n",
       "   9,\n",
       "   23,\n",
       "   30,\n",
       "   50,\n",
       "   61,\n",
       "   70,\n",
       "   39,\n",
       "   43,\n",
       "   28,\n",
       "   18,\n",
       "   69,\n",
       "   60,\n",
       "   8,\n",
       "   31,\n",
       "   77,\n",
       "   64,\n",
       "   84,\n",
       "   72,\n",
       "   11,\n",
       "   85],\n",
       "  [48,\n",
       "   57,\n",
       "   50,\n",
       "   46,\n",
       "   56,\n",
       "   34,\n",
       "   80,\n",
       "   6,\n",
       "   31,\n",
       "   83,\n",
       "   87,\n",
       "   48,\n",
       "   34,\n",
       "   50,\n",
       "   10,\n",
       "   93,\n",
       "   40,\n",
       "   96,\n",
       "   80,\n",
       "   32,\n",
       "   10,\n",
       "   70,\n",
       "   82,\n",
       "   7,\n",
       "   59,\n",
       "   23,\n",
       "   8,\n",
       "   22,\n",
       "   30,\n",
       "   13,\n",
       "   47,\n",
       "   46,\n",
       "   17,\n",
       "   15,\n",
       "   77,\n",
       "   89,\n",
       "   78,\n",
       "   46,\n",
       "   8,\n",
       "   53,\n",
       "   57,\n",
       "   30,\n",
       "   59,\n",
       "   48,\n",
       "   47,\n",
       "   59,\n",
       "   24,\n",
       "   83,\n",
       "   43,\n",
       "   46],\n",
       "  [83,\n",
       "   68,\n",
       "   56,\n",
       "   79,\n",
       "   65,\n",
       "   78,\n",
       "   9,\n",
       "   50,\n",
       "   52,\n",
       "   65,\n",
       "   15,\n",
       "   67,\n",
       "   38,\n",
       "   24,\n",
       "   32,\n",
       "   89,\n",
       "   57,\n",
       "   3,\n",
       "   22,\n",
       "   47,\n",
       "   53,\n",
       "   35,\n",
       "   79,\n",
       "   54,\n",
       "   59,\n",
       "   72,\n",
       "   47,\n",
       "   39,\n",
       "   39,\n",
       "   66,\n",
       "   52,\n",
       "   15,\n",
       "   57,\n",
       "   12,\n",
       "   4,\n",
       "   79,\n",
       "   77,\n",
       "   15,\n",
       "   65,\n",
       "   72,\n",
       "   24,\n",
       "   61,\n",
       "   81,\n",
       "   35,\n",
       "   40,\n",
       "   8,\n",
       "   81,\n",
       "   63,\n",
       "   0,\n",
       "   78],\n",
       "  [61,\n",
       "   48,\n",
       "   37,\n",
       "   30,\n",
       "   5,\n",
       "   10,\n",
       "   9,\n",
       "   93,\n",
       "   76,\n",
       "   13,\n",
       "   30,\n",
       "   27,\n",
       "   81,\n",
       "   64,\n",
       "   73,\n",
       "   10,\n",
       "   74,\n",
       "   85,\n",
       "   45,\n",
       "   85,\n",
       "   91,\n",
       "   82,\n",
       "   73,\n",
       "   79,\n",
       "   45,\n",
       "   31,\n",
       "   24,\n",
       "   81,\n",
       "   16,\n",
       "   84,\n",
       "   60,\n",
       "   88,\n",
       "   1,\n",
       "   17,\n",
       "   60,\n",
       "   12,\n",
       "   34,\n",
       "   98,\n",
       "   84,\n",
       "   90,\n",
       "   83,\n",
       "   46,\n",
       "   57,\n",
       "   45,\n",
       "   8,\n",
       "   34,\n",
       "   43,\n",
       "   33,\n",
       "   12,\n",
       "   75],\n",
       "  [18,\n",
       "   2,\n",
       "   73,\n",
       "   61,\n",
       "   27,\n",
       "   43,\n",
       "   53,\n",
       "   82,\n",
       "   24,\n",
       "   64,\n",
       "   72,\n",
       "   16,\n",
       "   26,\n",
       "   51,\n",
       "   79,\n",
       "   36,\n",
       "   73,\n",
       "   57,\n",
       "   5,\n",
       "   74,\n",
       "   42,\n",
       "   79,\n",
       "   67,\n",
       "   56,\n",
       "   32,\n",
       "   56,\n",
       "   33,\n",
       "   81,\n",
       "   47,\n",
       "   73,\n",
       "   18,\n",
       "   10,\n",
       "   97,\n",
       "   69,\n",
       "   86,\n",
       "   75,\n",
       "   32,\n",
       "   49,\n",
       "   89,\n",
       "   86,\n",
       "   4,\n",
       "   81,\n",
       "   48,\n",
       "   62,\n",
       "   89,\n",
       "   71,\n",
       "   68,\n",
       "   29,\n",
       "   58,\n",
       "   28],\n",
       "  [43,\n",
       "   92,\n",
       "   88,\n",
       "   57,\n",
       "   54,\n",
       "   80,\n",
       "   71,\n",
       "   91,\n",
       "   21,\n",
       "   17,\n",
       "   88,\n",
       "   64,\n",
       "   73,\n",
       "   35,\n",
       "   41,\n",
       "   36,\n",
       "   90,\n",
       "   34,\n",
       "   14,\n",
       "   81,\n",
       "   19,\n",
       "   19,\n",
       "   89,\n",
       "   58,\n",
       "   87,\n",
       "   30,\n",
       "   33,\n",
       "   37,\n",
       "   8,\n",
       "   15,\n",
       "   84,\n",
       "   5,\n",
       "   11,\n",
       "   91,\n",
       "   7,\n",
       "   44,\n",
       "   60,\n",
       "   87,\n",
       "   95,\n",
       "   94,\n",
       "   38,\n",
       "   2,\n",
       "   91,\n",
       "   36,\n",
       "   99,\n",
       "   20,\n",
       "   0,\n",
       "   12,\n",
       "   82,\n",
       "   84],\n",
       "  [58,\n",
       "   0,\n",
       "   71,\n",
       "   66,\n",
       "   3,\n",
       "   27,\n",
       "   17,\n",
       "   83,\n",
       "   96,\n",
       "   40,\n",
       "   80,\n",
       "   76,\n",
       "   50,\n",
       "   87,\n",
       "   96,\n",
       "   16,\n",
       "   52,\n",
       "   65,\n",
       "   8,\n",
       "   3,\n",
       "   32,\n",
       "   65,\n",
       "   94,\n",
       "   15,\n",
       "   37,\n",
       "   60,\n",
       "   0,\n",
       "   6,\n",
       "   93,\n",
       "   38,\n",
       "   74,\n",
       "   69,\n",
       "   69,\n",
       "   94,\n",
       "   55,\n",
       "   43,\n",
       "   39,\n",
       "   37,\n",
       "   19,\n",
       "   28,\n",
       "   91,\n",
       "   55,\n",
       "   32,\n",
       "   78,\n",
       "   37,\n",
       "   8,\n",
       "   7,\n",
       "   79,\n",
       "   83,\n",
       "   26]],\n",
       " 'index': ['0', '1', '2', '3', '4', '5', '6', '7', '8', '9']}"
      ]
     },
     "execution_count": 471,
     "metadata": {},
     "output_type": "execute_result"
    }
   ],
   "source": [
    "data.T.to_dict(orient='split')"
   ]
  },
  {
   "cell_type": "code",
   "execution_count": 516,
   "metadata": {
    "collapsed": true
   },
   "outputs": [],
   "source": [
    "skus = ['1','2','3']"
   ]
  },
  {
   "cell_type": "code",
   "execution_count": 517,
   "metadata": {
    "collapsed": true
   },
   "outputs": [],
   "source": [
    "prod_info = {\n",
    "        \"Product Information\":\n",
    "        {\n",
    "        \"0\":{\n",
    "        \"SKU\":\"0\",\n",
    "        \"Product Description\":\"Lined Paper, 50 pages\",\n",
    "        \"Price\":\"7.00\",\n",
    "        \"Promotion\":\"6.50\",\n",
    "        \"Product Category\":\"paper_goods\"\n",
    "        },\n",
    "        \"1\":{\n",
    "        \"SKU\":\"1\",\n",
    "        \"Product Description\":\"Legal Paper, 50 pages\",\n",
    "        \"Price\":\"15.00\",\n",
    "        \"Promotion\":\"13.00\",\n",
    "        \"Product Category\":\"paper_goods\"\n",
    "        },\n",
    "        \"2\":{\n",
    "        \"SKU\":\"2\",\n",
    "        \"Product Description\":\"Red Stapler\",\n",
    "        \"Price\":\"4.50\",\n",
    "        \"Promotion\":\"nan\",\n",
    "        \"Product Category\":\"fasteners\"\n",
    "        },\n",
    "        \"3\":{\n",
    "        \"SKU\":\"3\",\n",
    "        \"Product Description\":\"Heavy Duty Stapler\",\n",
    "        \"Price\":\"5.99\",\n",
    "        \"Promotion\":\"nan\",\n",
    "        \"Product Category\":\"fasteners\"\n",
    "        },\n",
    "        \"4\":{\n",
    "        \"SKU\":\"4\",\n",
    "        \"Product Description\":\"Paper Clips (1000ct)\",\n",
    "        \"Price\":\"9.99\",\n",
    "        \"Promotion\":\"nan\",\n",
    "        \"Product Category\":\"fasteners\"\n",
    "        }\n",
    "        }\n",
    "        }"
   ]
  },
  {
   "cell_type": "code",
   "execution_count": 518,
   "metadata": {
    "collapsed": true
   },
   "outputs": [],
   "source": [
    "prices = []\n",
    "for sku in skus:\n",
    "    prices.append(float(prod_info['Product Information'][sku]['Price']))"
   ]
  },
  {
   "cell_type": "code",
   "execution_count": 519,
   "metadata": {},
   "outputs": [
    {
     "data": {
      "text/plain": [
       "[15.0, 4.5, 5.99]"
      ]
     },
     "execution_count": 519,
     "metadata": {},
     "output_type": "execute_result"
    }
   ],
   "source": [
    "prices"
   ]
  },
  {
   "cell_type": "code",
   "execution_count": 520,
   "metadata": {},
   "outputs": [
    {
     "data": {
      "text/html": [
       "<div>\n",
       "<style>\n",
       "    .dataframe thead tr:only-child th {\n",
       "        text-align: right;\n",
       "    }\n",
       "\n",
       "    .dataframe thead th {\n",
       "        text-align: left;\n",
       "    }\n",
       "\n",
       "    .dataframe tbody tr th {\n",
       "        vertical-align: top;\n",
       "    }\n",
       "</style>\n",
       "<table border=\"1\" class=\"dataframe\">\n",
       "  <thead>\n",
       "    <tr style=\"text-align: right;\">\n",
       "      <th></th>\n",
       "      <th>1</th>\n",
       "      <th>2</th>\n",
       "      <th>3</th>\n",
       "    </tr>\n",
       "  </thead>\n",
       "  <tbody>\n",
       "    <tr>\n",
       "      <th>2017-07-30</th>\n",
       "      <td>405.0</td>\n",
       "      <td>99.0</td>\n",
       "      <td>113.81</td>\n",
       "    </tr>\n",
       "    <tr>\n",
       "      <th>2017-08-06</th>\n",
       "      <td>1260.0</td>\n",
       "      <td>346.5</td>\n",
       "      <td>179.70</td>\n",
       "    </tr>\n",
       "    <tr>\n",
       "      <th>2017-08-13</th>\n",
       "      <td>165.0</td>\n",
       "      <td>184.5</td>\n",
       "      <td>113.81</td>\n",
       "    </tr>\n",
       "    <tr>\n",
       "      <th>2017-08-20</th>\n",
       "      <td>1170.0</td>\n",
       "      <td>342.0</td>\n",
       "      <td>473.21</td>\n",
       "    </tr>\n",
       "    <tr>\n",
       "      <th>2017-08-27</th>\n",
       "      <td>240.0</td>\n",
       "      <td>31.5</td>\n",
       "      <td>185.69</td>\n",
       "    </tr>\n",
       "    <tr>\n",
       "      <th>2017-09-03</th>\n",
       "      <td>270.0</td>\n",
       "      <td>261.0</td>\n",
       "      <td>545.09</td>\n",
       "    </tr>\n",
       "    <tr>\n",
       "      <th>2017-09-10</th>\n",
       "      <td>1290.0</td>\n",
       "      <td>148.5</td>\n",
       "      <td>167.72</td>\n",
       "    </tr>\n",
       "    <tr>\n",
       "      <th>2017-09-17</th>\n",
       "      <td>1140.0</td>\n",
       "      <td>81.0</td>\n",
       "      <td>251.58</td>\n",
       "    </tr>\n",
       "    <tr>\n",
       "      <th>2017-09-24</th>\n",
       "      <td>450.0</td>\n",
       "      <td>162.0</td>\n",
       "      <td>401.33</td>\n",
       "    </tr>\n",
       "    <tr>\n",
       "      <th>2017-10-01</th>\n",
       "      <td>1350.0</td>\n",
       "      <td>225.0</td>\n",
       "      <td>317.47</td>\n",
       "    </tr>\n",
       "    <tr>\n",
       "      <th>2017-10-08</th>\n",
       "      <td>780.0</td>\n",
       "      <td>346.5</td>\n",
       "      <td>437.27</td>\n",
       "    </tr>\n",
       "    <tr>\n",
       "      <th>2017-10-15</th>\n",
       "      <td>390.0</td>\n",
       "      <td>270.0</td>\n",
       "      <td>143.76</td>\n",
       "    </tr>\n",
       "  </tbody>\n",
       "</table>\n",
       "</div>"
      ],
      "text/plain": [
       "                 1      2       3\n",
       "2017-07-30   405.0   99.0  113.81\n",
       "2017-08-06  1260.0  346.5  179.70\n",
       "2017-08-13   165.0  184.5  113.81\n",
       "2017-08-20  1170.0  342.0  473.21\n",
       "2017-08-27   240.0   31.5  185.69\n",
       "2017-09-03   270.0  261.0  545.09\n",
       "2017-09-10  1290.0  148.5  167.72\n",
       "2017-09-17  1140.0   81.0  251.58\n",
       "2017-09-24   450.0  162.0  401.33\n",
       "2017-10-01  1350.0  225.0  317.47\n",
       "2017-10-08   780.0  346.5  437.27\n",
       "2017-10-15   390.0  270.0  143.76"
      ]
     },
     "execution_count": 520,
     "metadata": {},
     "output_type": "execute_result"
    }
   ],
   "source": [
    "data.loc[wk_start:wk_end][skus]*prices#.sum().sum()"
   ]
  },
  {
   "cell_type": "code",
   "execution_count": null,
   "metadata": {
    "collapsed": true
   },
   "outputs": [],
   "source": []
  }
 ],
 "metadata": {
  "kernelspec": {
   "display_name": "Python 3",
   "language": "python",
   "name": "python3"
  },
  "language_info": {
   "codemirror_mode": {
    "name": "ipython",
    "version": 3
   },
   "file_extension": ".py",
   "mimetype": "text/x-python",
   "name": "python",
   "nbconvert_exporter": "python",
   "pygments_lexer": "ipython3",
   "version": "3.6.1"
  }
 },
 "nbformat": 4,
 "nbformat_minor": 2
}
