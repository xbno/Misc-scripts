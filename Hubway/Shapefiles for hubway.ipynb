{
 "cells": [
  {
   "cell_type": "code",
   "execution_count": null,
   "metadata": {
    "collapsed": true
   },
   "outputs": [],
   "source": [
    "!pip install stateplane"
   ]
  },
  {
   "cell_type": "code",
   "execution_count": 50,
   "metadata": {
    "collapsed": false
   },
   "outputs": [
    {
     "name": "stdout",
     "output_type": "stream",
     "text": [
      "Collecting shapely==1.6b2\n",
      "  Downloading Shapely-1.6b2-cp35-cp35m-manylinux1_x86_64.whl (8.4MB)\n",
      "\u001b[K    100% |████████████████████████████████| 8.4MB 134kB/s eta 0:00:01    41% |█████████████▏                  | 3.5MB 9.8MB/s eta 0:00:01\n",
      "\u001b[?25hInstalling collected packages: shapely\n",
      "  Found existing installation: Shapely 1.5.17.post1\n",
      "    Uninstalling Shapely-1.5.17.post1:\n",
      "      Successfully uninstalled Shapely-1.5.17.post1\n",
      "Successfully installed shapely-1.6b2\n",
      "\u001b[33mYou are using pip version 8.1.2, however version 9.0.1 is available.\n",
      "You should consider upgrading via the 'pip install --upgrade pip' command.\u001b[0m\n"
     ]
    }
   ],
   "source": [
    "!pip install shapely==1.6b2"
   ]
  },
  {
   "cell_type": "code",
   "execution_count": 44,
   "metadata": {
    "collapsed": false,
    "scrolled": true
   },
   "outputs": [],
   "source": [
    "from shapely.geometry import asShape, Point"
   ]
  },
  {
   "cell_type": "code",
   "execution_count": 27,
   "metadata": {
    "collapsed": true
   },
   "outputs": [],
   "source": [
    "import matplotlib.pyplot as plt"
   ]
  },
  {
   "cell_type": "code",
   "execution_count": 63,
   "metadata": {
    "collapsed": false
   },
   "outputs": [],
   "source": [
    "r = shapefile.Reader(r'./TOWNSSURVEY_POLYM.shp')\n",
    "shapes = r.shapes()\n",
    "\n",
    "polygon = asShape(shapes[0])    \n",
    "\n",
    "def check(lon, lat):\n",
    "    # build a shapely point from your geopoint\n",
    "    point = Point(lon,lat)\n",
    "\n",
    "    # the contains function does exactly what you want\n",
    "    return polygon.contains(point)"
   ]
  },
  {
   "cell_type": "code",
   "execution_count": 67,
   "metadata": {
    "collapsed": false
   },
   "outputs": [],
   "source": [
    "r = shapefile.Reader(r'./TOWNSSURVEY_POLYM.dbf')\n",
    "shapes = r.shapes()"
   ]
  },
  {
   "cell_type": "code",
   "execution_count": 62,
   "metadata": {
    "collapsed": false
   },
   "outputs": [
    {
     "data": {
      "text/plain": [
       "351"
      ]
     },
     "execution_count": 62,
     "metadata": {},
     "output_type": "execute_result"
    }
   ],
   "source": [
    "len(shapes)"
   ]
  },
  {
   "cell_type": "code",
   "execution_count": 80,
   "metadata": {
    "collapsed": false
   },
   "outputs": [
    {
     "ename": "TypeError",
     "evalue": "'Reader' object does not support indexing",
     "output_type": "error",
     "traceback": [
      "\u001b[0;31m---------------------------------------------------------------------------\u001b[0m",
      "\u001b[0;31mTypeError\u001b[0m                                 Traceback (most recent call last)",
      "\u001b[0;32m<ipython-input-80-44e88bad20bd>\u001b[0m in \u001b[0;36m<module>\u001b[0;34m()\u001b[0m\n\u001b[0;32m----> 1\u001b[0;31m \u001b[0mr\u001b[0m\u001b[0;34m[\u001b[0m\u001b[0;36m0\u001b[0m\u001b[0;34m]\u001b[0m\u001b[0;34m[\u001b[0m\u001b[0;34m'properties'\u001b[0m\u001b[0;34m]\u001b[0m\u001b[0;34m[\u001b[0m\u001b[0;34m'TOWN'\u001b[0m\u001b[0;34m]\u001b[0m\u001b[0;34m\u001b[0m\u001b[0m\n\u001b[0m",
      "\u001b[0;31mTypeError\u001b[0m: 'Reader' object does not support indexing"
     ]
    }
   ],
   "source": [
    "shapes[0]['properties']['TOWN']"
   ]
  },
  {
   "cell_type": "code",
   "execution_count": 85,
   "metadata": {
    "collapsed": false
   },
   "outputs": [
    {
     "name": "stderr",
     "output_type": "stream",
     "text": [
      "/opt/conda/lib/python3.5/site-packages/ipykernel/__main__.py:4: DeprecationWarning: Collection.__next__() is buggy and will be removed in Fiona 2.0. Switch to `next(iter(collection))`.\n"
     ]
    }
   ],
   "source": [
    "from shapely.geometry import shape\n",
    "towns = []\n",
    "c = fiona.open('./TOWNSSURVEY_POLYM.shp')\n",
    "pol = c.next()\n",
    "geom = shape(pol['geometry'])\n",
    "towns.append(pol['properties']['TOWN'])"
   ]
  },
  {
   "cell_type": "markdown",
   "metadata": {},
   "source": [
    "# shapes"
   ]
  },
  {
   "cell_type": "code",
   "execution_count": 203,
   "metadata": {
    "collapsed": false
   },
   "outputs": [],
   "source": [
    "boston = [asShape(pol['geometry']) for pol in fiona.open('./TOWNSSURVEY_POLYM.shp') if 'BOSTON' in pol['properties']['TOWN']]\n",
    "boston_shape = boston[0]\n",
    "cambridge = [asShape(pol['geometry']) for pol in fiona.open('./TOWNSSURVEY_POLYM.shp') if 'CAMBRIDGE' in pol['properties']['TOWN']]\n",
    "cambridge_shape = cambridge[0]\n",
    "somerville = [asShape(pol['geometry']) for pol in fiona.open('./TOWNSSURVEY_POLYM.shp') if 'SOMERVILLE' in pol['properties']['TOWN']]\n",
    "somerville_shape = somerville[0]"
   ]
  },
  {
   "cell_type": "code",
   "execution_count": 108,
   "metadata": {
    "collapsed": false
   },
   "outputs": [],
   "source": [
    "import pandas as pd"
   ]
  },
  {
   "cell_type": "code",
   "execution_count": 205,
   "metadata": {
    "collapsed": true
   },
   "outputs": [],
   "source": [
    "hub = pd.read_csv('hubway_final.csv',nrows=10000)"
   ]
  },
  {
   "cell_type": "code",
   "execution_count": 206,
   "metadata": {
    "collapsed": true
   },
   "outputs": [],
   "source": [
    "def check(lon, lat):\n",
    "    # build a shapely point from your geopoint\n",
    "    point = Point(lon,lat)\n",
    "\n",
    "    # the contains function does exactly what you want\n",
    "    return cambridge_shape.contains(point)"
   ]
  },
  {
   "cell_type": "code",
   "execution_count": 192,
   "metadata": {
    "collapsed": true
   },
   "outputs": [],
   "source": [
    "import stateplane"
   ]
  },
  {
   "cell_type": "code",
   "execution_count": 207,
   "metadata": {
    "collapsed": true
   },
   "outputs": [],
   "source": [
    "def in_som(row):\n",
    "    lat = row['start station latitude']\n",
    "    long = row['start station longitude']\n",
    "    sp_lat = stateplane.from_latlon(lat,long)[0]\n",
    "    sp_long = stateplane.from_latlon(lat,long)[1]\n",
    "    point = Point(sp_lat,sp_long)\n",
    "    return somerville_shape.contains(point)\n",
    "\n",
    "def in_bos(row):\n",
    "    lat = row['start station latitude']\n",
    "    long = row['start station longitude']\n",
    "    sp_lat = stateplane.from_latlon(lat,long)[0]\n",
    "    sp_long = stateplane.from_latlon(lat,long)[1]\n",
    "    point = Point(sp_lat,sp_long)\n",
    "    return boston_shape.contains(point)\n",
    "\n",
    "def in_cam(row):\n",
    "    lat = row['start station latitude']\n",
    "    long = row['start station longitude']\n",
    "    sp_lat = stateplane.from_latlon(lat,long)[0]\n",
    "    sp_long = stateplane.from_latlon(lat,long)[1]\n",
    "    point = Point(sp_lat,sp_long)\n",
    "    #print(point)\n",
    "    return cambridge_shape.contains(point)"
   ]
  },
  {
   "cell_type": "code",
   "execution_count": 208,
   "metadata": {
    "collapsed": false
   },
   "outputs": [],
   "source": [
    "hub['start cambridge'] = hub.apply(in_cam,axis=1)\n",
    "hub['start boston'] = hub.apply(in_bos,axis=1)\n",
    "hub['start somerville'] = hub.apply(in_som,axis=1)"
   ]
  },
  {
   "cell_type": "code",
   "execution_count": 209,
   "metadata": {
    "collapsed": false
   },
   "outputs": [
    {
     "data": {
      "text/plain": [
       "array([True], dtype=object)"
      ]
     },
     "execution_count": 209,
     "metadata": {},
     "output_type": "execute_result"
    }
   ],
   "source": [
    "hub['start cambridge'].unique()"
   ]
  },
  {
   "cell_type": "code",
   "execution_count": 171,
   "metadata": {
    "collapsed": true
   },
   "outputs": [],
   "source": [
    "start = (42.387995,-71.119084)"
   ]
  },
  {
   "cell_type": "code",
   "execution_count": 211,
   "metadata": {
    "collapsed": false
   },
   "outputs": [
    {
     "data": {
      "text/html": [
       "<div>\n",
       "<table border=\"1\" class=\"dataframe\">\n",
       "  <thead>\n",
       "    <tr style=\"text-align: right;\">\n",
       "      <th></th>\n",
       "      <th>Unnamed: 0</th>\n",
       "      <th>tripduration</th>\n",
       "      <th>starttime</th>\n",
       "      <th>stoptime</th>\n",
       "      <th>start station id</th>\n",
       "      <th>start station name</th>\n",
       "      <th>start station latitude</th>\n",
       "      <th>start station longitude</th>\n",
       "      <th>end station id</th>\n",
       "      <th>end station name</th>\n",
       "      <th>end station latitude</th>\n",
       "      <th>end station longitude</th>\n",
       "      <th>bikeid</th>\n",
       "      <th>usertype</th>\n",
       "      <th>birth year</th>\n",
       "      <th>gender</th>\n",
       "      <th>end station category</th>\n",
       "      <th>start station category</th>\n",
       "      <th>day_of_week</th>\n",
       "      <th>start cambridge</th>\n",
       "    </tr>\n",
       "  </thead>\n",
       "  <tbody>\n",
       "    <tr>\n",
       "      <th>0</th>\n",
       "      <td>0</td>\n",
       "      <td>542</td>\n",
       "      <td>2015-01-01 00:21:44</td>\n",
       "      <td>2015-01-01 00:30:47</td>\n",
       "      <td>115</td>\n",
       "      <td>Porter Square Station</td>\n",
       "      <td>42.387995</td>\n",
       "      <td>-71.119084</td>\n",
       "      <td>96</td>\n",
       "      <td>Cambridge Main Library at Broadway / Trowbridg...</td>\n",
       "      <td>42.373379</td>\n",
       "      <td>-71.111075</td>\n",
       "      <td>277</td>\n",
       "      <td>Subscriber</td>\n",
       "      <td>1984</td>\n",
       "      <td>1</td>\n",
       "      <td>4</td>\n",
       "      <td>5</td>\n",
       "      <td>Thurs</td>\n",
       "      <td>True</td>\n",
       "    </tr>\n",
       "    <tr>\n",
       "      <th>1</th>\n",
       "      <td>1</td>\n",
       "      <td>432</td>\n",
       "      <td>2015-01-01 00:53:46</td>\n",
       "      <td>2015-01-01 01:00:58</td>\n",
       "      <td>115</td>\n",
       "      <td>Porter Square Station</td>\n",
       "      <td>42.387995</td>\n",
       "      <td>-71.119084</td>\n",
       "      <td>96</td>\n",
       "      <td>Cambridge Main Library at Broadway / Trowbridg...</td>\n",
       "      <td>42.373379</td>\n",
       "      <td>-71.111075</td>\n",
       "      <td>1307</td>\n",
       "      <td>Subscriber</td>\n",
       "      <td>1987</td>\n",
       "      <td>1</td>\n",
       "      <td>4</td>\n",
       "      <td>5</td>\n",
       "      <td>Thurs</td>\n",
       "      <td>True</td>\n",
       "    </tr>\n",
       "    <tr>\n",
       "      <th>2</th>\n",
       "      <td>2</td>\n",
       "      <td>580</td>\n",
       "      <td>2015-01-04 14:29:05</td>\n",
       "      <td>2015-01-04 14:38:45</td>\n",
       "      <td>115</td>\n",
       "      <td>Porter Square Station</td>\n",
       "      <td>42.387995</td>\n",
       "      <td>-71.119084</td>\n",
       "      <td>96</td>\n",
       "      <td>Cambridge Main Library at Broadway / Trowbridg...</td>\n",
       "      <td>42.373379</td>\n",
       "      <td>-71.111075</td>\n",
       "      <td>673</td>\n",
       "      <td>Subscriber</td>\n",
       "      <td>1991</td>\n",
       "      <td>1</td>\n",
       "      <td>4</td>\n",
       "      <td>5</td>\n",
       "      <td>Sun</td>\n",
       "      <td>True</td>\n",
       "    </tr>\n",
       "    <tr>\n",
       "      <th>3</th>\n",
       "      <td>3</td>\n",
       "      <td>754</td>\n",
       "      <td>2015-01-08 16:17:04</td>\n",
       "      <td>2015-01-08 16:29:39</td>\n",
       "      <td>115</td>\n",
       "      <td>Porter Square Station</td>\n",
       "      <td>42.387995</td>\n",
       "      <td>-71.119084</td>\n",
       "      <td>96</td>\n",
       "      <td>Cambridge Main Library at Broadway / Trowbridg...</td>\n",
       "      <td>42.373379</td>\n",
       "      <td>-71.111075</td>\n",
       "      <td>1092</td>\n",
       "      <td>Customer</td>\n",
       "      <td>1961</td>\n",
       "      <td>2</td>\n",
       "      <td>4</td>\n",
       "      <td>5</td>\n",
       "      <td>Thurs</td>\n",
       "      <td>True</td>\n",
       "    </tr>\n",
       "    <tr>\n",
       "      <th>4</th>\n",
       "      <td>4</td>\n",
       "      <td>667</td>\n",
       "      <td>2015-01-10 11:40:49</td>\n",
       "      <td>2015-01-10 11:51:57</td>\n",
       "      <td>115</td>\n",
       "      <td>Porter Square Station</td>\n",
       "      <td>42.387995</td>\n",
       "      <td>-71.119084</td>\n",
       "      <td>96</td>\n",
       "      <td>Cambridge Main Library at Broadway / Trowbridg...</td>\n",
       "      <td>42.373379</td>\n",
       "      <td>-71.111075</td>\n",
       "      <td>772</td>\n",
       "      <td>Subscriber</td>\n",
       "      <td>1980</td>\n",
       "      <td>1</td>\n",
       "      <td>4</td>\n",
       "      <td>5</td>\n",
       "      <td>Sat</td>\n",
       "      <td>True</td>\n",
       "    </tr>\n",
       "  </tbody>\n",
       "</table>\n",
       "</div>"
      ],
      "text/plain": [
       "   Unnamed: 0  tripduration            starttime             stoptime  \\\n",
       "0           0           542  2015-01-01 00:21:44  2015-01-01 00:30:47   \n",
       "1           1           432  2015-01-01 00:53:46  2015-01-01 01:00:58   \n",
       "2           2           580  2015-01-04 14:29:05  2015-01-04 14:38:45   \n",
       "3           3           754  2015-01-08 16:17:04  2015-01-08 16:29:39   \n",
       "4           4           667  2015-01-10 11:40:49  2015-01-10 11:51:57   \n",
       "\n",
       "   start station id     start station name  start station latitude  \\\n",
       "0               115  Porter Square Station               42.387995   \n",
       "1               115  Porter Square Station               42.387995   \n",
       "2               115  Porter Square Station               42.387995   \n",
       "3               115  Porter Square Station               42.387995   \n",
       "4               115  Porter Square Station               42.387995   \n",
       "\n",
       "   start station longitude  end station id  \\\n",
       "0               -71.119084              96   \n",
       "1               -71.119084              96   \n",
       "2               -71.119084              96   \n",
       "3               -71.119084              96   \n",
       "4               -71.119084              96   \n",
       "\n",
       "                                    end station name  end station latitude  \\\n",
       "0  Cambridge Main Library at Broadway / Trowbridg...             42.373379   \n",
       "1  Cambridge Main Library at Broadway / Trowbridg...             42.373379   \n",
       "2  Cambridge Main Library at Broadway / Trowbridg...             42.373379   \n",
       "3  Cambridge Main Library at Broadway / Trowbridg...             42.373379   \n",
       "4  Cambridge Main Library at Broadway / Trowbridg...             42.373379   \n",
       "\n",
       "   end station longitude  bikeid    usertype birth year  gender  \\\n",
       "0             -71.111075     277  Subscriber       1984       1   \n",
       "1             -71.111075    1307  Subscriber       1987       1   \n",
       "2             -71.111075     673  Subscriber       1991       1   \n",
       "3             -71.111075    1092    Customer       1961       2   \n",
       "4             -71.111075     772  Subscriber       1980       1   \n",
       "\n",
       "   end station category  start station category day_of_week start cambridge  \n",
       "0                     4                       5       Thurs            True  \n",
       "1                     4                       5       Thurs            True  \n",
       "2                     4                       5         Sun            True  \n",
       "3                     4                       5       Thurs            True  \n",
       "4                     4                       5         Sat            True  "
      ]
     },
     "execution_count": 211,
     "metadata": {},
     "output_type": "execute_result"
    }
   ],
   "source": [
    "hub.head()"
   ]
  },
  {
   "cell_type": "code",
   "execution_count": null,
   "metadata": {
    "collapsed": true
   },
   "outputs": [],
   "source": []
  }
 ],
 "metadata": {
  "kernelspec": {
   "display_name": "Python 3",
   "language": "python",
   "name": "python3"
  },
  "language_info": {
   "codemirror_mode": {
    "name": "ipython",
    "version": 3
   },
   "file_extension": ".py",
   "mimetype": "text/x-python",
   "name": "python",
   "nbconvert_exporter": "python",
   "pygments_lexer": "ipython3",
   "version": "3.5.2"
  }
 },
 "nbformat": 4,
 "nbformat_minor": 2
}
